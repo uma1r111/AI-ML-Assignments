{
  "cells": [
    {
      "cell_type": "code",
      "execution_count": 1,
      "metadata": {
        "colab": {
          "base_uri": "https://localhost:8080/",
          "height": 74
        },
        "id": "JeNHhcXUPo6K",
        "outputId": "c01540e6-5db9-45af-bef4-8b15911a74d6"
      },
      "outputs": [
        {
          "data": {
            "text/html": [
              "\n",
              "     <input type=\"file\" id=\"files-967531b1-f840-47a2-b23a-da52fb3022c8\" name=\"files[]\" multiple disabled\n",
              "        style=\"border:none\" />\n",
              "     <output id=\"result-967531b1-f840-47a2-b23a-da52fb3022c8\">\n",
              "      Upload widget is only available when the cell has been executed in the\n",
              "      current browser session. Please rerun this cell to enable.\n",
              "      </output>\n",
              "      <script>// Copyright 2017 Google LLC\n",
              "//\n",
              "// Licensed under the Apache License, Version 2.0 (the \"License\");\n",
              "// you may not use this file except in compliance with the License.\n",
              "// You may obtain a copy of the License at\n",
              "//\n",
              "//      http://www.apache.org/licenses/LICENSE-2.0\n",
              "//\n",
              "// Unless required by applicable law or agreed to in writing, software\n",
              "// distributed under the License is distributed on an \"AS IS\" BASIS,\n",
              "// WITHOUT WARRANTIES OR CONDITIONS OF ANY KIND, either express or implied.\n",
              "// See the License for the specific language governing permissions and\n",
              "// limitations under the License.\n",
              "\n",
              "/**\n",
              " * @fileoverview Helpers for google.colab Python module.\n",
              " */\n",
              "(function(scope) {\n",
              "function span(text, styleAttributes = {}) {\n",
              "  const element = document.createElement('span');\n",
              "  element.textContent = text;\n",
              "  for (const key of Object.keys(styleAttributes)) {\n",
              "    element.style[key] = styleAttributes[key];\n",
              "  }\n",
              "  return element;\n",
              "}\n",
              "\n",
              "// Max number of bytes which will be uploaded at a time.\n",
              "const MAX_PAYLOAD_SIZE = 100 * 1024;\n",
              "\n",
              "function _uploadFiles(inputId, outputId) {\n",
              "  const steps = uploadFilesStep(inputId, outputId);\n",
              "  const outputElement = document.getElementById(outputId);\n",
              "  // Cache steps on the outputElement to make it available for the next call\n",
              "  // to uploadFilesContinue from Python.\n",
              "  outputElement.steps = steps;\n",
              "\n",
              "  return _uploadFilesContinue(outputId);\n",
              "}\n",
              "\n",
              "// This is roughly an async generator (not supported in the browser yet),\n",
              "// where there are multiple asynchronous steps and the Python side is going\n",
              "// to poll for completion of each step.\n",
              "// This uses a Promise to block the python side on completion of each step,\n",
              "// then passes the result of the previous step as the input to the next step.\n",
              "function _uploadFilesContinue(outputId) {\n",
              "  const outputElement = document.getElementById(outputId);\n",
              "  const steps = outputElement.steps;\n",
              "\n",
              "  const next = steps.next(outputElement.lastPromiseValue);\n",
              "  return Promise.resolve(next.value.promise).then((value) => {\n",
              "    // Cache the last promise value to make it available to the next\n",
              "    // step of the generator.\n",
              "    outputElement.lastPromiseValue = value;\n",
              "    return next.value.response;\n",
              "  });\n",
              "}\n",
              "\n",
              "/**\n",
              " * Generator function which is called between each async step of the upload\n",
              " * process.\n",
              " * @param {string} inputId Element ID of the input file picker element.\n",
              " * @param {string} outputId Element ID of the output display.\n",
              " * @return {!Iterable<!Object>} Iterable of next steps.\n",
              " */\n",
              "function* uploadFilesStep(inputId, outputId) {\n",
              "  const inputElement = document.getElementById(inputId);\n",
              "  inputElement.disabled = false;\n",
              "\n",
              "  const outputElement = document.getElementById(outputId);\n",
              "  outputElement.innerHTML = '';\n",
              "\n",
              "  const pickedPromise = new Promise((resolve) => {\n",
              "    inputElement.addEventListener('change', (e) => {\n",
              "      resolve(e.target.files);\n",
              "    });\n",
              "  });\n",
              "\n",
              "  const cancel = document.createElement('button');\n",
              "  inputElement.parentElement.appendChild(cancel);\n",
              "  cancel.textContent = 'Cancel upload';\n",
              "  const cancelPromise = new Promise((resolve) => {\n",
              "    cancel.onclick = () => {\n",
              "      resolve(null);\n",
              "    };\n",
              "  });\n",
              "\n",
              "  // Wait for the user to pick the files.\n",
              "  const files = yield {\n",
              "    promise: Promise.race([pickedPromise, cancelPromise]),\n",
              "    response: {\n",
              "      action: 'starting',\n",
              "    }\n",
              "  };\n",
              "\n",
              "  cancel.remove();\n",
              "\n",
              "  // Disable the input element since further picks are not allowed.\n",
              "  inputElement.disabled = true;\n",
              "\n",
              "  if (!files) {\n",
              "    return {\n",
              "      response: {\n",
              "        action: 'complete',\n",
              "      }\n",
              "    };\n",
              "  }\n",
              "\n",
              "  for (const file of files) {\n",
              "    const li = document.createElement('li');\n",
              "    li.append(span(file.name, {fontWeight: 'bold'}));\n",
              "    li.append(span(\n",
              "        `(${file.type || 'n/a'}) - ${file.size} bytes, ` +\n",
              "        `last modified: ${\n",
              "            file.lastModifiedDate ? file.lastModifiedDate.toLocaleDateString() :\n",
              "                                    'n/a'} - `));\n",
              "    const percent = span('0% done');\n",
              "    li.appendChild(percent);\n",
              "\n",
              "    outputElement.appendChild(li);\n",
              "\n",
              "    const fileDataPromise = new Promise((resolve) => {\n",
              "      const reader = new FileReader();\n",
              "      reader.onload = (e) => {\n",
              "        resolve(e.target.result);\n",
              "      };\n",
              "      reader.readAsArrayBuffer(file);\n",
              "    });\n",
              "    // Wait for the data to be ready.\n",
              "    let fileData = yield {\n",
              "      promise: fileDataPromise,\n",
              "      response: {\n",
              "        action: 'continue',\n",
              "      }\n",
              "    };\n",
              "\n",
              "    // Use a chunked sending to avoid message size limits. See b/62115660.\n",
              "    let position = 0;\n",
              "    do {\n",
              "      const length = Math.min(fileData.byteLength - position, MAX_PAYLOAD_SIZE);\n",
              "      const chunk = new Uint8Array(fileData, position, length);\n",
              "      position += length;\n",
              "\n",
              "      const base64 = btoa(String.fromCharCode.apply(null, chunk));\n",
              "      yield {\n",
              "        response: {\n",
              "          action: 'append',\n",
              "          file: file.name,\n",
              "          data: base64,\n",
              "        },\n",
              "      };\n",
              "\n",
              "      let percentDone = fileData.byteLength === 0 ?\n",
              "          100 :\n",
              "          Math.round((position / fileData.byteLength) * 100);\n",
              "      percent.textContent = `${percentDone}% done`;\n",
              "\n",
              "    } while (position < fileData.byteLength);\n",
              "  }\n",
              "\n",
              "  // All done.\n",
              "  yield {\n",
              "    response: {\n",
              "      action: 'complete',\n",
              "    }\n",
              "  };\n",
              "}\n",
              "\n",
              "scope.google = scope.google || {};\n",
              "scope.google.colab = scope.google.colab || {};\n",
              "scope.google.colab._files = {\n",
              "  _uploadFiles,\n",
              "  _uploadFilesContinue,\n",
              "};\n",
              "})(self);\n",
              "</script> "
            ],
            "text/plain": [
              "<IPython.core.display.HTML object>"
            ]
          },
          "metadata": {},
          "output_type": "display_data"
        },
        {
          "name": "stdout",
          "output_type": "stream",
          "text": [
            "Saving news_Feb_14.csv to news_Feb_14.csv\n"
          ]
        }
      ],
      "source": [
        "from google.colab import files\n",
        "\n",
        "\n",
        "uploaded = files.upload()"
      ]
    },
    {
      "cell_type": "code",
      "execution_count": 40,
      "metadata": {
        "colab": {
          "base_uri": "https://localhost:8080/"
        },
        "id": "O-GqrUSBQOyI",
        "outputId": "933a199f-24ab-4a6c-8a8e-e1b6472f207b"
      },
      "outputs": [
        {
          "name": "stdout",
          "output_type": "stream",
          "text": [
            "                                                 title        date\n",
            "0    ECC endorses purchase of $582mn capital shares...  14/02/2025\n",
            "1    Netanyahu’s statement to establish Palestinian...  14/02/2025\n",
            "2    India, US agree to resolve trade and tariff ro...  14/02/2025\n",
            "3    Aurangzeb discusses Pakistan’s structural refo...  14/02/2025\n",
            "4    HBL, S&P Global launch Pakistan’s first manufa...  14/02/2025\n",
            "..                                                 ...         ...\n",
            "448  SBP grants FPT clearance to Zia Ijaz as Askari...  14/02/2025\n",
            "449  India’s Modi brings a tariff ‘gift’ to Trump t...  13/02/2025\n",
            "450  Oil prices decline on optimism over potential ...  13/02/2025\n",
            "451  Google partners with Poland to expand AI adopt...  13/02/2025\n",
            "452  US regulator opens probe into 129,092 Honda ve...  13/02/2025\n",
            "\n",
            "[453 rows x 2 columns]\n"
          ]
        }
      ],
      "source": [
        "import pandas as pd\n",
        "import io\n",
        "\n",
        "df = pd.read_csv(io.BytesIO(uploaded['news_Feb_14.csv']))\n",
        "print(df)\n"
      ]
    },
    {
      "cell_type": "code",
      "execution_count": null,
      "metadata": {
        "colab": {
          "base_uri": "https://localhost:8080/"
        },
        "id": "90JhSfuDQm_8",
        "outputId": "07a2dd87-044a-40f2-efbc-59a1b5f2459d"
      },
      "outputs": [
        {
          "name": "stderr",
          "output_type": "stream",
          "text": [
            "[nltk_data] Downloading package stopwords to /root/nltk_data...\n",
            "[nltk_data]   Package stopwords is already up-to-date!\n",
            "[nltk_data] Downloading package wordnet to /root/nltk_data...\n",
            "[nltk_data]   Package wordnet is already up-to-date!\n",
            "[nltk_data] Downloading package omw-1.4 to /root/nltk_data...\n",
            "[nltk_data]   Package omw-1.4 is already up-to-date!\n"
          ]
        },
        {
          "data": {
            "text/plain": [
              "True"
            ]
          },
          "execution_count": 41,
          "metadata": {},
          "output_type": "execute_result"
        }
      ],
      "source": [
        "import pandas as pd\n",
        "import numpy as np\n",
        "import matplotlib.pyplot as plt\n",
        "import seaborn as sns\n",
        "from sklearn.feature_extraction.text import CountVectorizer, TfidfVectorizer #Converts text into a bag-of-words representation.\n",
        "                                                                             #Converts text into TF-IDF (Term Frequency-Inverse Document Frequency) representation.\n",
        "from sklearn.decomposition import TruncatedSVD                               #TruncatedSVD: Performs Latent Semantic Analysis (LSA) by reducing dimensionality using Singular Value Decomposition (SVD).\n",
        "from sklearn.cluster import KMeans\n",
        "from sklearn.metrics import silhouette_score\n",
        "from sklearn.pipeline import make_pipeline                                   #Allows multiple transformations (e.g., TF-IDF followed by SVD) in a single step\n",
        "from sklearn.preprocessing import Normalizer\n",
        "from nltk.stem import PorterStemmer, WordNetLemmatizer\n",
        "from nltk.corpus import stopwords\n",
        "import nltk\n",
        "nltk.download('stopwords')\n",
        "nltk.download('wordnet')\n",
        "nltk.download('omw-1.4')"
      ]
    },
    {
      "cell_type": "code",
      "execution_count": null,
      "metadata": {
        "id": "6MHmEQmiQwDE"
      },
      "outputs": [],
      "source": [
        "# Load Dataset\n",
        "df = pd.read_csv(\"news_Feb_14.csv\")\n",
        "df.dropna(inplace=True)\n",
        "\n",
        "def preprocess_text(text, remove_stopwords=True, use_stemming=False, use_lemmatization=False):\n",
        "    text = text.lower() #Converts all text to lowercase (text.lower()) to avoid case sensitivity issues (e.g., \"Apple\" and \"apple\" should be the same).\n",
        "    words = text.split() # splits the text into individual words.\n",
        "\n",
        "    #If remove_stopwords=True, common words (e.g., \"the\", \"is\", \"and\") are removed using the NLTK stopwords list.\n",
        "\n",
        "    if remove_stopwords:\n",
        "        stop_words = set(stopwords.words(\"english\"))\n",
        "        words = [word for word in words if word not in stop_words]\n",
        "\n",
        "    #If use_stemming=True, the Porter Stemmer reduces words to their root form (e.g., \"running\" -> \"run\").\n",
        "\n",
        "    if use_stemming:\n",
        "        stemmer = PorterStemmer()\n",
        "        words = [stemmer.stem(word) for word in words]\n",
        "\n",
        "    #If use_lemmatization=True, words are lemmatized using WordNet (e.g., \"better\" -> \"good\").\n",
        "\n",
        "    if use_lemmatization:\n",
        "        lemmatizer = WordNetLemmatizer()\n",
        "        words = [lemmatizer.lemmatize(word) for word in words]\n",
        "\n",
        "    return \" \".join(words) #joins words back into a single text string."
      ]
    },
    {
      "cell_type": "code",
      "execution_count": null,
      "metadata": {
        "id": "AWzwCDHKQ05D"
      },
      "outputs": [],
      "source": [
        "# Apply preprocessing\n",
        "remove_stopwords = True\n",
        "use_stemming = False\n",
        "use_lemmatization = True\n",
        "ngram_range = (1, 2) # Using bigrams (ngram_range=(1,2)) means both single words and two-word phrases will be used for vectorization.\n",
        "                     # ngram_range(1,1) signifies uni-grams\n",
        "df[\"processed_text\"] = df[\"title\"].apply(lambda x: preprocess_text(x, remove_stopwords, use_stemming, use_lemmatization))\n"
      ]
    },
    {
      "cell_type": "code",
      "execution_count": null,
      "metadata": {
        "id": "0pXaU6PERAFd"
      },
      "outputs": [],
      "source": [
        "# Define vectorization techniques\n",
        "vectorizers = {\n",
        "    \"CountVectorizer\": CountVectorizer(ngram_range=ngram_range), #Converts text into a matrix of term frequencies. Example: If \"gold truck\" appears twice, it will have a value of 2.\n",
        "    \"TFIDF\": TfidfVectorizer(ngram_range=ngram_range), #Weights terms based on how important they are across documents using formula: TF-IDF=TFxlog(N/DF)\n",
        "    \"LSA\": make_pipeline(TfidfVectorizer(ngram_range=ngram_range), TruncatedSVD(n_components=3)),  #Uses TF-IDF + TruncatedSVD to reduce the number of dimensions and capture hidden relationships between words.\n",
        "    \"TruncatedSVD\": TruncatedSVD(n_components=3)  #Performs SVD alone (without TF-IDF).\n",
        "}"
      ]
    },
    {
      "cell_type": "code",
      "execution_count": 74,
      "metadata": {
        "id": "wvtRd1wPRFph"
      },
      "outputs": [],
      "source": [
        "results = []\n",
        "k_values = [13]\n",
        "random_state = 26409  # Change to your ERP ID\n",
        "\n",
        "for vec_name, vectorizer in vectorizers.items():\n",
        "    if vec_name == \"TruncatedSVD\":\n",
        "        # Apply SVD to previously vectorized text (e.g., TF-IDF)\n",
        "        X = vectorizers[\"TFIDF\"].fit_transform(df[\"processed_text\"])\n",
        "        X = vectorizer.fit_transform(X)  # Apply TruncatedSVD separately\n",
        "    else:\n",
        "        X = vectorizer.fit_transform(df[\"processed_text\"])\n",
        "\n",
        "    for k in k_values:\n",
        "        kmeans = KMeans(n_clusters=k, random_state=random_state, n_init=10)\n",
        "        labels = kmeans.fit_predict(X)\n",
        "\n",
        "        wss = kmeans.inertia_\n",
        "        silhouette = silhouette_score(X, labels)\n",
        "\n",
        "        results.append([k, vec_name, remove_stopwords, use_stemming, use_lemmatization, \"bi-grams\", wss, silhouette])"
      ]
    },
    {
      "cell_type": "code",
      "execution_count": 75,
      "metadata": {
        "colab": {
          "base_uri": "https://localhost:8080/"
        },
        "id": "7onBuV8zRMn5",
        "outputId": "34152cdf-c8cc-4619-dcad-d7e9a1ca3f66"
      },
      "outputs": [
        {
          "name": "stdout",
          "output_type": "stream",
          "text": [
            "   Clusters       Vectorizer  Stopwords  Stemming  Lemmatization   N-Grams  \\\n",
            "0        13  CountVectorizer       True     False           True  bi-grams   \n",
            "1        13            TFIDF       True     False           True  bi-grams   \n",
            "2        13              LSA       True     False           True  bi-grams   \n",
            "3        13     TruncatedSVD       True     False           True  bi-grams   \n",
            "\n",
            "           WSS  Silhouette  \n",
            "0  6735.730287   -0.033216  \n",
            "1   431.990878    0.004609  \n",
            "2     0.481857    0.496570  \n",
            "3     0.486733    0.511863  \n"
          ]
        }
      ],
      "source": [
        "# Convert results to DataFrame\n",
        "results_df = pd.DataFrame(results, columns=[\"Clusters\", \"Vectorizer\", \"Stopwords\", \"Stemming\", \"Lemmatization\", \"N-Grams\", \"WSS\", \"Silhouette\"])\n",
        "print(results_df)\n"
      ]
    }
  ],
  "metadata": {
    "colab": {
      "provenance": []
    },
    "kernelspec": {
      "display_name": "Python 3",
      "name": "python3"
    },
    "language_info": {
      "name": "python"
    }
  },
  "nbformat": 4,
  "nbformat_minor": 0
}
