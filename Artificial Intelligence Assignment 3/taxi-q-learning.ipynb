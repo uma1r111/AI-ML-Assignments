{
  "nbformat": 4,
  "nbformat_minor": 0,
  "metadata": {
    "colab": {
      "provenance": []
    },
    "kernelspec": {
      "name": "python3",
      "display_name": "Python 3"
    },
    "language_info": {
      "name": "python"
    }
  },
  "cells": [
    {
      "cell_type": "code",
      "source": [
        "#-------------------------------- part 1 #--------------------------------"
      ],
      "metadata": {
        "id": "ucy07mqhfn6T"
      },
      "execution_count": null,
      "outputs": []
    },
    {
      "cell_type": "code",
      "execution_count": null,
      "metadata": {
        "colab": {
          "base_uri": "https://localhost:8080/"
        },
        "id": "St0dzKR1lzIL",
        "outputId": "08d5d4df-35b5-44c1-c9c4-6dd8c3265c6c"
      },
      "outputs": [
        {
          "output_type": "stream",
          "name": "stdout",
          "text": [
            "Requirement already satisfied: gymnasium in /usr/local/lib/python3.11/dist-packages (1.1.1)\n",
            "Requirement already satisfied: matplotlib in /usr/local/lib/python3.11/dist-packages (3.10.0)\n",
            "Requirement already satisfied: numpy>=1.21.0 in /usr/local/lib/python3.11/dist-packages (from gymnasium) (2.0.2)\n",
            "Requirement already satisfied: cloudpickle>=1.2.0 in /usr/local/lib/python3.11/dist-packages (from gymnasium) (3.1.1)\n",
            "Requirement already satisfied: typing-extensions>=4.3.0 in /usr/local/lib/python3.11/dist-packages (from gymnasium) (4.13.2)\n",
            "Requirement already satisfied: farama-notifications>=0.0.1 in /usr/local/lib/python3.11/dist-packages (from gymnasium) (0.0.4)\n",
            "Requirement already satisfied: contourpy>=1.0.1 in /usr/local/lib/python3.11/dist-packages (from matplotlib) (1.3.2)\n",
            "Requirement already satisfied: cycler>=0.10 in /usr/local/lib/python3.11/dist-packages (from matplotlib) (0.12.1)\n",
            "Requirement already satisfied: fonttools>=4.22.0 in /usr/local/lib/python3.11/dist-packages (from matplotlib) (4.57.0)\n",
            "Requirement already satisfied: kiwisolver>=1.3.1 in /usr/local/lib/python3.11/dist-packages (from matplotlib) (1.4.8)\n",
            "Requirement already satisfied: packaging>=20.0 in /usr/local/lib/python3.11/dist-packages (from matplotlib) (24.2)\n",
            "Requirement already satisfied: pillow>=8 in /usr/local/lib/python3.11/dist-packages (from matplotlib) (11.2.1)\n",
            "Requirement already satisfied: pyparsing>=2.3.1 in /usr/local/lib/python3.11/dist-packages (from matplotlib) (3.2.3)\n",
            "Requirement already satisfied: python-dateutil>=2.7 in /usr/local/lib/python3.11/dist-packages (from matplotlib) (2.9.0.post0)\n",
            "Requirement already satisfied: six>=1.5 in /usr/local/lib/python3.11/dist-packages (from python-dateutil>=2.7->matplotlib) (1.17.0)\n"
          ]
        }
      ],
      "source": [
        "!pip install gymnasium matplotlib\n"
      ]
    },
    {
      "cell_type": "code",
      "source": [
        "import gymnasium as gym\n",
        "import numpy as np\n",
        "import random\n",
        "import matplotlib.pyplot as plt"
      ],
      "metadata": {
        "id": "l-LIEGSXpO6B"
      },
      "execution_count": null,
      "outputs": []
    },
    {
      "cell_type": "code",
      "source": [
        "# Environment setup\n",
        "env = gym.make(\"Taxi-v3\")\n",
        "state_space_size = env.observation_space.n  # 500\n",
        "action_space_size = env.action_space.n      # 6"
      ],
      "metadata": {
        "id": "P0-r8RPIpQ4m"
      },
      "execution_count": null,
      "outputs": []
    },
    {
      "cell_type": "code",
      "source": [
        "# Q-table initialization\n",
        "q_table = np.zeros((state_space_size, action_space_size))\n",
        "\n",
        "# Hyperparameters\n",
        "alpha = 0.8            # Learning rate\n",
        "gamma = 0.95           # Discount factor\n",
        "epsilon = 1.0          # Exploration rate\n",
        "min_epsilon = 0.01\n",
        "epsilon_decay = 0.999\n",
        "episodes = 5000\n",
        "test_episodes = 100\n",
        "max_steps = 100        # per episode\n",
        "\n",
        "# Rewards tracking\n",
        "rewards_per_episode = []\n"
      ],
      "metadata": {
        "id": "LjyrrMvvpX-9"
      },
      "execution_count": null,
      "outputs": []
    },
    {
      "cell_type": "code",
      "source": [
        "# Training loop\n",
        "for episode in range(episodes):\n",
        "    state, _ = env.reset()\n",
        "    total_reward = 0\n",
        "    done = False\n",
        "\n",
        "    for step in range(max_steps):\n",
        "        # Exploration-exploitation\n",
        "        if random.uniform(0, 1) < epsilon:\n",
        "            action = env.action_space.sample()\n",
        "        else:\n",
        "            action = np.argmax(q_table[state, :])\n",
        "\n",
        "        # Take action\n",
        "        next_state, reward, terminated, truncated, _ = env.step(action)\n",
        "        done = terminated or truncated\n",
        "\n",
        "        # Update Q-table\n",
        "        old_value = q_table[state, action]\n",
        "        next_max = np.max(q_table[next_state, :])\n",
        "        q_table[state, action] = old_value + alpha * (reward + gamma * next_max - old_value)\n",
        "\n",
        "        state = next_state\n",
        "        total_reward += reward\n",
        "\n",
        "        if done:\n",
        "            break\n",
        "\n",
        "    # Decay epsilon after 2000 episodes\n",
        "    if episode >= 2000:\n",
        "        epsilon = max(min_epsilon, epsilon * epsilon_decay)\n",
        "\n",
        "    rewards_per_episode.append(total_reward)\n"
      ],
      "metadata": {
        "id": "L0oFgbv_pbgR"
      },
      "execution_count": null,
      "outputs": []
    },
    {
      "cell_type": "code",
      "source": [
        "# Plot training rewards\n",
        "plt.plot(rewards_per_episode)\n",
        "plt.title(\"Rewards per Episode (Training)\")\n",
        "plt.xlabel(\"Episode\")\n",
        "plt.ylabel(\"Total Reward\")\n",
        "plt.grid(True)\n",
        "plt.show()"
      ],
      "metadata": {
        "colab": {
          "base_uri": "https://localhost:8080/",
          "height": 472
        },
        "id": "Tm2ML9ZdpkSf",
        "outputId": "d329e0a0-82b6-40b4-9906-3ca5eb519d35"
      },
      "execution_count": null,
      "outputs": [
        {
          "output_type": "display_data",
          "data": {
            "text/plain": [
              "<Figure size 640x480 with 1 Axes>"
            ],
            "image/png": "[encoded data removed]"
          },
          "metadata": {}
        }
      ]
    },
    {
      "cell_type": "code",
      "source": [
        "# Testing the trained agent\n",
        "total_test_reward = 0\n",
        "for _ in range(test_episodes):\n",
        "    state, _ = env.reset()\n",
        "    test_episode_reward = 0\n",
        "    done = False\n",
        "\n",
        "    for _ in range(max_steps):\n",
        "        action = np.argmax(q_table[state, :])  # greedy action\n",
        "        state, reward, terminated, truncated, _ = env.step(action)\n",
        "        test_episode_reward += reward\n",
        "        done = terminated or truncated\n",
        "        if done:\n",
        "            break\n",
        "\n",
        "    total_test_reward += test_episode_reward\n",
        "\n",
        "average_test_reward = total_test_reward / test_episodes\n",
        "print(f\"\\nAverage reward over {test_episodes} test episodes: {average_test_reward:.2f}\")"
      ],
      "metadata": {
        "colab": {
          "base_uri": "https://localhost:8080/"
        },
        "id": "BTND3o_vpm6x",
        "outputId": "f0362024-30bc-4ca5-dc22-36e5f8c510b7"
      },
      "execution_count": null,
      "outputs": [
        {
          "output_type": "stream",
          "name": "stdout",
          "text": [
            "\n",
            "Average reward over 100 test episodes: 8.11\n"
          ]
        }
      ]
    },
    {
      "cell_type": "code",
      "source": [],
      "metadata": {
        "id": "ChkGVbT2urpN"
      },
      "execution_count": null,
      "outputs": []
    },
    {
      "cell_type": "code",
      "source": [],
      "metadata": {
        "id": "yxnRfkevgfV5"
      },
      "execution_count": null,
      "outputs": []
    },
    {
      "cell_type": "code",
      "source": [
        "#-------------------------------- part 2 --------------------------------"
      ],
      "metadata": {
        "id": "Thna2E6yf8D2"
      },
      "execution_count": null,
      "outputs": []
    },
    {
      "cell_type": "code",
      "source": [
        "!pip install optuna"
      ],
      "metadata": {
        "id": "Z7yW79Hv4bEB",
        "colab": {
          "base_uri": "https://localhost:8080/"
        },
        "outputId": "081b6354-5afe-40f0-a354-3abf6d5ce5ad"
      },
      "execution_count": 2,
      "outputs": [
        {
          "output_type": "stream",
          "name": "stdout",
          "text": [
            "Collecting optuna\n",
            "  Downloading optuna-4.3.0-py3-none-any.whl.metadata (17 kB)\n",
            "Collecting alembic>=1.5.0 (from optuna)\n",
            "  Downloading alembic-1.15.2-py3-none-any.whl.metadata (7.3 kB)\n",
            "Collecting colorlog (from optuna)\n",
            "  Downloading colorlog-6.9.0-py3-none-any.whl.metadata (10 kB)\n",
            "Requirement already satisfied: numpy in /usr/local/lib/python3.11/dist-packages (from optuna) (2.0.2)\n",
            "Requirement already satisfied: packaging>=20.0 in /usr/local/lib/python3.11/dist-packages (from optuna) (24.2)\n",
            "Requirement already satisfied: sqlalchemy>=1.4.2 in /usr/local/lib/python3.11/dist-packages (from optuna) (2.0.40)\n",
            "Requirement already satisfied: tqdm in /usr/local/lib/python3.11/dist-packages (from optuna) (4.67.1)\n",
            "Requirement already satisfied: PyYAML in /usr/local/lib/python3.11/dist-packages (from optuna) (6.0.2)\n",
            "Requirement already satisfied: Mako in /usr/lib/python3/dist-packages (from alembic>=1.5.0->optuna) (1.1.3)\n",
            "Requirement already satisfied: typing-extensions>=4.12 in /usr/local/lib/python3.11/dist-packages (from alembic>=1.5.0->optuna) (4.13.2)\n",
            "Requirement already satisfied: greenlet>=1 in /usr/local/lib/python3.11/dist-packages (from sqlalchemy>=1.4.2->optuna) (3.2.1)\n",
            "Downloading optuna-4.3.0-py3-none-any.whl (386 kB)\n",
            "\u001b[2K   \u001b[90m━━━━━━━━━━━━━━━━━━━━━━━━━━━━━━━━━━━━━━━━\u001b[0m \u001b[32m386.6/386.6 kB\u001b[0m \u001b[31m7.1 MB/s\u001b[0m eta \u001b[36m0:00:00\u001b[0m\n",
            "\u001b[?25hDownloading alembic-1.15.2-py3-none-any.whl (231 kB)\n",
            "\u001b[2K   \u001b[90m━━━━━━━━━━━━━━━━━━━━━━━━━━━━━━━━━━━━━━━━\u001b[0m \u001b[32m231.9/231.9 kB\u001b[0m \u001b[31m19.8 MB/s\u001b[0m eta \u001b[36m0:00:00\u001b[0m\n",
            "\u001b[?25hDownloading colorlog-6.9.0-py3-none-any.whl (11 kB)\n",
            "Installing collected packages: colorlog, alembic, optuna\n",
            "Successfully installed alembic-1.15.2 colorlog-6.9.0 optuna-4.3.0\n"
          ]
        }
      ]
    },
    {
      "cell_type": "code",
      "source": [
        "import gymnasium as gym\n",
        "import numpy as np\n",
        "import random\n",
        "import optuna\n",
        "import matplotlib.pyplot as plt\n",
        "\n",
        "def train_q_learning(alpha=0.8, gamma=0.95, gamma_test=1.0, epsilon=1.0, epsilon_decay=0.999,\n",
        "                     min_epsilon=0.01, episodes=5000, test_episodes=100,\n",
        "                     max_steps=200, decay_start_episode=3000, exploration_strategy=\"exp_decay\", plot=False):\n",
        "\n",
        "    env = gym.make(\"Taxi-v3\")\n",
        "    state_space_size = env.observation_space.n\n",
        "    action_space_size = env.action_space.n\n",
        "    q_table = np.zeros((state_space_size, action_space_size))\n",
        "    rewards_per_episode = []\n",
        "\n",
        "    for episode in range(episodes):\n",
        "        state, _ = env.reset()\n",
        "        total_reward = 0\n",
        "        done = False\n",
        "\n",
        "        for _ in range(max_steps):\n",
        "            if random.uniform(0, 1) < epsilon:\n",
        "                action = env.action_space.sample()\n",
        "            else:\n",
        "                action = np.argmax(q_table[state, :])\n",
        "\n",
        "            next_state, reward, terminated, truncated, _ = env.step(action)\n",
        "            done = terminated or truncated\n",
        "\n",
        "            old_value = q_table[state, action]\n",
        "            next_max = np.max(q_table[next_state, :])\n",
        "            q_table[state, action] = old_value + alpha * (reward + gamma * next_max - old_value)\n",
        "\n",
        "            state = next_state\n",
        "            total_reward += reward\n",
        "\n",
        "            if done:\n",
        "                break\n",
        "\n",
        "        if episode >= decay_start_episode:\n",
        "            if exploration_strategy == \"exp_decay\":\n",
        "                epsilon = max(min_epsilon, epsilon * epsilon_decay)\n",
        "            elif exploration_strategy == \"linear_decay\":\n",
        "                epsilon = max(min_epsilon, epsilon - 0.001)\n",
        "            # \"constant\" -> no decay\n",
        "\n",
        "        rewards_per_episode.append(total_reward)\n",
        "\n",
        "    if plot:\n",
        "        plt.plot(rewards_per_episode)\n",
        "        plt.title(\"Rewards per Episode (Training)\")\n",
        "        plt.xlabel(\"Episode\")\n",
        "        plt.ylabel(\"Total Reward\")\n",
        "        plt.grid(True)\n",
        "        plt.show()\n",
        "\n",
        "    total_test_reward = 0\n",
        "    for _ in range(test_episodes):\n",
        "        state, _ = env.reset()\n",
        "        test_episode_reward = 0\n",
        "        done = False\n",
        "        for _ in range(max_steps):\n",
        "            action = np.argmax(q_table[state, :])\n",
        "            next_state, reward, terminated, truncated, _ = env.step(action)\n",
        "            done = terminated or truncated\n",
        "\n",
        "            # Optional: apply gamma_test discounting manually here if needed\n",
        "            test_episode_reward += reward\n",
        "            state = next_state\n",
        "\n",
        "            if done:\n",
        "                break\n",
        "        total_test_reward += test_episode_reward\n",
        "\n",
        "    average_test_reward = total_test_reward / test_episodes\n",
        "    return average_test_reward"
      ],
      "metadata": {
        "id": "v5KBVw_C4bmz"
      },
      "execution_count": null,
      "outputs": []
    },
    {
      "cell_type": "code",
      "source": [
        "def objective(trial):\n",
        "    alpha = trial.suggest_float(\"alpha\", 0.4, 0.8)\n",
        "    gamma = trial.suggest_float(\"gamma\", 0.85, 0.99)\n",
        "    gamma_test = trial.suggest_float(\"gamma_test\", 0.95, 1.0)\n",
        "    epsilon = trial.suggest_float(\"epsilon\", 0.8, 1.0)\n",
        "    epsilon_decay = trial.suggest_float(\"epsilon_decay\", 0.95, 0.9999)\n",
        "    min_epsilon = trial.suggest_float(\"min_epsilon\", 0.01, 0.1)\n",
        "    episodes = trial.suggest_int(\"episodes\", 10000, 15000)\n",
        "    max_steps = trial.suggest_int(\"max_steps\", 100, 400)\n",
        "    decay_start_episode = trial.suggest_int(\"decay_start_episode\", 2000, 8000)\n",
        "    test_episodes = trial.suggest_int(\"test_episodes\", 100, 300)\n",
        "    exploration_strategy = trial.suggest_categorical(\"exploration_strategy\", [\"exp_decay\", \"linear_decay\", \"constant\"])\n",
        "\n",
        "    return train_q_learning(\n",
        "        alpha=alpha,\n",
        "        gamma=gamma,\n",
        "        gamma_test=gamma_test,\n",
        "        epsilon=epsilon,\n",
        "        epsilon_decay=epsilon_decay,\n",
        "        min_epsilon=min_epsilon,\n",
        "        episodes=episodes,\n",
        "        test_episodes=test_episodes,\n",
        "        decay_start_episode=decay_start_episode,\n",
        "        max_steps=max_steps,\n",
        "        exploration_strategy=exploration_strategy,\n",
        "        plot=False\n",
        "    )"
      ],
      "metadata": {
        "id": "HT9sQojn4rvf"
      },
      "execution_count": null,
      "outputs": []
    },
    {
      "cell_type": "code",
      "source": [
        "study = optuna.create_study(direction=\"maximize\")\n",
        "study.optimize(objective, n_trials=50)"
      ],
      "metadata": {
        "colab": {
          "base_uri": "https://localhost:8080/"
        },
        "id": "uAxIfYXi4x_r",
        "outputId": "b1a713f6-aa7a-4c8c-b75d-c4f238abadca"
      },
      "execution_count": null,
      "outputs": [
        {
          "output_type": "stream",
          "name": "stderr",
          "text": [
            "[I 2025-05-10 14:35:47,859] A new study created in memory with name: no-name-099a7bba-cf05-4190-ba56-b441d63fb44a\n",
            "[I 2025-05-10 14:36:19,580] Trial 0 finished with value: 7.6 and parameters: {'alpha': 0.618829090953706, 'gamma': 0.9554523306833166, 'gamma_test': 0.9588590187073176, 'epsilon': 0.9996688531892612, 'epsilon_decay': 0.9605039184939606, 'min_epsilon': 0.06002273685314178, 'episodes': 13942, 'max_steps': 257, 'decay_start_episode': 6455, 'test_episodes': 242, 'exploration_strategy': 'exp_decay'}. Best is trial 0 with value: 7.6.\n",
            "[I 2025-05-10 14:36:46,644] Trial 1 finished with value: 7.64 and parameters: {'alpha': 0.544105970301698, 'gamma': 0.986549103345159, 'gamma_test': 0.9552243170456803, 'epsilon': 0.9116685339836949, 'epsilon_decay': 0.9939868193823014, 'min_epsilon': 0.048503065892498025, 'episodes': 13290, 'max_steps': 391, 'decay_start_episode': 5992, 'test_episodes': 285, 'exploration_strategy': 'exp_decay'}. Best is trial 1 with value: 7.64.\n",
            "[I 2025-05-10 14:37:10,265] Trial 2 finished with value: 8.04 and parameters: {'alpha': 0.775615170592592, 'gamma': 0.923646383972746, 'gamma_test': 0.9527818802109999, 'epsilon': 0.9006893459049763, 'epsilon_decay': 0.9768661032538692, 'min_epsilon': 0.01542952090238733, 'episodes': 11103, 'max_steps': 344, 'decay_start_episode': 7608, 'test_episodes': 216, 'exploration_strategy': 'linear_decay'}. Best is trial 2 with value: 8.04.\n",
            "[I 2025-05-10 14:37:30,372] Trial 3 finished with value: 8.17 and parameters: {'alpha': 0.6586230065271901, 'gamma': 0.9218220347845651, 'gamma_test': 0.9980714210831575, 'epsilon': 0.8333110193528113, 'epsilon_decay': 0.963070966244099, 'min_epsilon': 0.09396450525340089, 'episodes': 13204, 'max_steps': 327, 'decay_start_episode': 3697, 'test_episodes': 291, 'exploration_strategy': 'linear_decay'}. Best is trial 3 with value: 8.17.\n",
            "[I 2025-05-10 14:37:48,077] Trial 4 finished with value: 8.07 and parameters: {'alpha': 0.6454739997660751, 'gamma': 0.8501225879111776, 'gamma_test': 0.9584176753744602, 'epsilon': 0.8051004264299526, 'epsilon_decay': 0.9636490870888479, 'min_epsilon': 0.06183095478685789, 'episodes': 14435, 'max_steps': 302, 'decay_start_episode': 3722, 'test_episodes': 107, 'exploration_strategy': 'exp_decay'}. Best is trial 3 with value: 8.17.\n",
            "[I 2025-05-10 14:38:09,838] Trial 5 finished with value: 7.78 and parameters: {'alpha': 0.6546148145878986, 'gamma': 0.9459226093765423, 'gamma_test': 0.9818117024843049, 'epsilon': 0.864457530610202, 'epsilon_decay': 0.9628387334487092, 'min_epsilon': 0.06482325621235567, 'episodes': 10810, 'max_steps': 384, 'decay_start_episode': 5758, 'test_episodes': 260, 'exploration_strategy': 'constant'}. Best is trial 3 with value: 8.17.\n",
            "[I 2025-05-10 14:38:26,035] Trial 6 finished with value: 7.52 and parameters: {'alpha': 0.7035194519617466, 'gamma': 0.8982687431976294, 'gamma_test': 0.9683030074650695, 'epsilon': 0.800133617508622, 'epsilon_decay': 0.9581221693750948, 'min_epsilon': 0.05330719153618778, 'episodes': 11507, 'max_steps': 244, 'decay_start_episode': 2533, 'test_episodes': 136, 'exploration_strategy': 'linear_decay'}. Best is trial 3 with value: 8.17.\n",
            "[I 2025-05-10 14:38:43,372] Trial 7 finished with value: 7.79 and parameters: {'alpha': 0.4356091485422204, 'gamma': 0.9038103085713867, 'gamma_test': 0.9912891434369887, 'epsilon': 0.8223480012073985, 'epsilon_decay': 0.9771720356570877, 'min_epsilon': 0.08909249407600439, 'episodes': 10388, 'max_steps': 182, 'decay_start_episode': 6596, 'test_episodes': 166, 'exploration_strategy': 'constant'}. Best is trial 3 with value: 8.17.\n",
            "[I 2025-05-10 14:39:13,650] Trial 8 finished with value: 8.43 and parameters: {'alpha': 0.5921159756744235, 'gamma': 0.891156247145646, 'gamma_test': 0.9577110507831884, 'epsilon': 0.9993703680724215, 'epsilon_decay': 0.9768000277385556, 'min_epsilon': 0.09364653919350596, 'episodes': 11448, 'max_steps': 223, 'decay_start_episode': 4821, 'test_episodes': 272, 'exploration_strategy': 'linear_decay'}. Best is trial 8 with value: 8.43.\n",
            "[I 2025-05-10 14:39:34,639] Trial 9 finished with value: 8.13 and parameters: {'alpha': 0.4495925380153818, 'gamma': 0.8743672016270895, 'gamma_test': 0.9750863723695964, 'epsilon': 0.8505439806436624, 'epsilon_decay': 0.968140329130736, 'min_epsilon': 0.046251811929387904, 'episodes': 14085, 'max_steps': 142, 'decay_start_episode': 6535, 'test_episodes': 274, 'exploration_strategy': 'constant'}. Best is trial 8 with value: 8.43.\n",
            "[I 2025-05-10 14:40:05,387] Trial 10 finished with value: 8.16 and parameters: {'alpha': 0.5314095922425588, 'gamma': 0.8756982407789647, 'gamma_test': 0.9676025041390907, 'epsilon': 0.9935505467025865, 'epsilon_decay': 0.9891419145908359, 'min_epsilon': 0.07651393036079983, 'episodes': 12125, 'max_steps': 112, 'decay_start_episode': 4482, 'test_episodes': 198, 'exploration_strategy': 'linear_decay'}. Best is trial 8 with value: 8.43.\n",
            "[I 2025-05-10 14:40:33,937] Trial 11 finished with value: 8.09 and parameters: {'alpha': 0.5563809982634325, 'gamma': 0.927527844469356, 'gamma_test': 0.995991865823776, 'epsilon': 0.9443592949503138, 'epsilon_decay': 0.952885253719125, 'min_epsilon': 0.09943776040832616, 'episodes': 12831, 'max_steps': 228, 'decay_start_episode': 3536, 'test_episodes': 300, 'exploration_strategy': 'linear_decay'}. Best is trial 8 with value: 8.43.\n",
            "[I 2025-05-10 14:41:02,392] Trial 12 finished with value: 7.71 and parameters: {'alpha': 0.6989994834330282, 'gamma': 0.8958027892038876, 'gamma_test': 0.9869236814186668, 'epsilon': 0.95251187403543, 'epsilon_decay': 0.984535351069168, 'min_epsilon': 0.08344193321254684, 'episodes': 11912, 'max_steps': 301, 'decay_start_episode': 4700, 'test_episodes': 231, 'exploration_strategy': 'linear_decay'}. Best is trial 8 with value: 8.43.\n",
            "[I 2025-05-10 14:41:23,551] Trial 13 finished with value: 7.62 and parameters: {'alpha': 0.7964353560221877, 'gamma': 0.947908438162844, 'gamma_test': 0.9996498919723552, 'epsilon': 0.8541352442998572, 'epsilon_decay': 0.9686266826228074, 'min_epsilon': 0.09301276979355332, 'episodes': 13354, 'max_steps': 301, 'decay_start_episode': 2059, 'test_episodes': 257, 'exploration_strategy': 'linear_decay'}. Best is trial 8 with value: 8.43.\n",
            "[I 2025-05-10 14:41:51,393] Trial 14 finished with value: 8.33 and parameters: {'alpha': 0.5756197947005258, 'gamma': 0.8802434942913078, 'gamma_test': 0.9781251518764328, 'epsilon': 0.936285598702332, 'epsilon_decay': 0.9813001639647425, 'min_epsilon': 0.07344743478331148, 'episodes': 12654, 'max_steps': 193, 'decay_start_episode': 3546, 'test_episodes': 192, 'exploration_strategy': 'linear_decay'}. Best is trial 8 with value: 8.43.\n",
            "[I 2025-05-10 14:42:19,307] Trial 15 finished with value: 7.61 and parameters: {'alpha': 0.5142079303938752, 'gamma': 0.8719035811461912, 'gamma_test': 0.9776372978140447, 'epsilon': 0.9654773266970542, 'epsilon_decay': 0.9838934127209513, 'min_epsilon': 0.07491533562941935, 'episodes': 12074, 'max_steps': 183, 'decay_start_episode': 2972, 'test_episodes': 183, 'exploration_strategy': 'linear_decay'}. Best is trial 8 with value: 8.43.\n",
            "[I 2025-05-10 14:42:48,196] Trial 16 finished with value: 7.96 and parameters: {'alpha': 0.5898126891000293, 'gamma': 0.8534833090321825, 'gamma_test': 0.9655328786812852, 'epsilon': 0.9296211503008539, 'epsilon_decay': 0.9994206237980945, 'min_epsilon': 0.030731872112139735, 'episodes': 10018, 'max_steps': 201, 'decay_start_episode': 5291, 'test_episodes': 175, 'exploration_strategy': 'linear_decay'}. Best is trial 8 with value: 8.43.\n",
            "[I 2025-05-10 14:43:19,786] Trial 17 finished with value: 8.05 and parameters: {'alpha': 0.488983802807204, 'gamma': 0.8828952081620645, 'gamma_test': 0.9830454568495286, 'epsilon': 0.977322459294045, 'epsilon_decay': 0.9814133296481129, 'min_epsilon': 0.07252663540451297, 'episodes': 14970, 'max_steps': 146, 'decay_start_episode': 4271, 'test_episodes': 156, 'exploration_strategy': 'linear_decay'}. Best is trial 8 with value: 8.43.\n",
            "[I 2025-05-10 14:43:46,812] Trial 18 finished with value: 7.86 and parameters: {'alpha': 0.5869206834110451, 'gamma': 0.9074992126440088, 'gamma_test': 0.9500287560093951, 'epsilon': 0.9242003140532838, 'epsilon_decay': 0.9714981916831433, 'min_epsilon': 0.08332616962778762, 'episodes': 12676, 'max_steps': 212, 'decay_start_episode': 5334, 'test_episodes': 206, 'exploration_strategy': 'constant'}. Best is trial 8 with value: 8.43.\n",
            "[I 2025-05-10 14:44:08,565] Trial 19 finished with value: 7.63 and parameters: {'alpha': 0.4806294240272515, 'gamma': 0.8856321109168696, 'gamma_test': 0.972123409647008, 'epsilon': 0.8765438448833225, 'epsilon_decay': 0.9888477364435653, 'min_epsilon': 0.07009683072004133, 'episodes': 11483, 'max_steps': 161, 'decay_start_episode': 2975, 'test_episodes': 148, 'exploration_strategy': 'exp_decay'}. Best is trial 8 with value: 8.43.\n",
            "[I 2025-05-10 14:44:30,555] Trial 20 finished with value: 7.87 and parameters: {'alpha': 0.7080753829545955, 'gamma': 0.8617532731643485, 'gamma_test': 0.9617739059955462, 'epsilon': 0.8834615062643218, 'epsilon_decay': 0.974342573619969, 'min_epsilon': 0.03489071105086662, 'episodes': 10942, 'max_steps': 266, 'decay_start_episode': 4120, 'test_episodes': 223, 'exploration_strategy': 'linear_decay'}. Best is trial 8 with value: 8.43.\n",
            "[I 2025-05-10 14:45:00,877] Trial 21 finished with value: 7.76 and parameters: {'alpha': 0.66361602659858, 'gamma': 0.9149234853234609, 'gamma_test': 0.9910160532912281, 'epsilon': 0.9747026589928567, 'epsilon_decay': 0.9802154265521865, 'min_epsilon': 0.09899201491376762, 'episodes': 13199, 'max_steps': 344, 'decay_start_episode': 3550, 'test_episodes': 290, 'exploration_strategy': 'linear_decay'}. Best is trial 8 with value: 8.43.\n",
            "[I 2025-05-10 14:45:19,561] Trial 22 finished with value: 7.73 and parameters: {'alpha': 0.6196358294245593, 'gamma': 0.9297728220596018, 'gamma_test': 0.9813214935940846, 'epsilon': 0.8371879872445386, 'epsilon_decay': 0.9532252507962138, 'min_epsilon': 0.0838595446817187, 'episodes': 12404, 'max_steps': 278, 'decay_start_episode': 4835, 'test_episodes': 261, 'exploration_strategy': 'linear_decay'}. Best is trial 8 with value: 8.43.\n",
            "[I 2025-05-10 14:45:44,357] Trial 23 finished with value: 7.75 and parameters: {'alpha': 0.567314267560846, 'gamma': 0.8904467084985443, 'gamma_test': 0.9885835238518206, 'epsilon': 0.8893931511199348, 'epsilon_decay': 0.9681596758204106, 'min_epsilon': 0.09095976783808003, 'episodes': 12992, 'max_steps': 214, 'decay_start_episode': 3983, 'test_episodes': 244, 'exploration_strategy': 'linear_decay'}. Best is trial 8 with value: 8.43.\n",
            "[I 2025-05-10 14:46:12,305] Trial 24 finished with value: 8.19 and parameters: {'alpha': 0.7530587816196511, 'gamma': 0.910184923374211, 'gamma_test': 0.9726949989310223, 'epsilon': 0.9344137705854113, 'epsilon_decay': 0.9718846008999047, 'min_epsilon': 0.08077963718647584, 'episodes': 13636, 'max_steps': 344, 'decay_start_episode': 3252, 'test_episodes': 278, 'exploration_strategy': 'linear_decay'}. Best is trial 8 with value: 8.43.\n",
            "[I 2025-05-10 14:46:39,848] Trial 25 finished with value: 7.97 and parameters: {'alpha': 0.6124829914595266, 'gamma': 0.9103898699186393, 'gamma_test': 0.9711623527962686, 'epsilon': 0.9455030923485634, 'epsilon_decay': 0.9721596092085195, 'min_epsilon': 0.08122673122489862, 'episodes': 13731, 'max_steps': 234, 'decay_start_episode': 3068, 'test_episodes': 192, 'exploration_strategy': 'linear_decay'}. Best is trial 8 with value: 8.43.\n",
            "[I 2025-05-10 14:47:06,207] Trial 26 finished with value: 8.16 and parameters: {'alpha': 0.7457934917114838, 'gamma': 0.8660178301187307, 'gamma_test': 0.977117535811018, 'epsilon': 0.9213366496898067, 'epsilon_decay': 0.9794171746684323, 'min_epsilon': 0.06858018830523555, 'episodes': 11615, 'max_steps': 108, 'decay_start_episode': 3215, 'test_episodes': 272, 'exploration_strategy': 'linear_decay'}. Best is trial 8 with value: 8.43.\n",
            "[I 2025-05-10 14:47:35,413] Trial 27 finished with value: 7.95 and parameters: {'alpha': 0.4042719648611125, 'gamma': 0.9381577114203319, 'gamma_test': 0.9621628875488972, 'epsilon': 0.937201786782375, 'epsilon_decay': 0.9881323750360688, 'min_epsilon': 0.07872025996041242, 'episodes': 12545, 'max_steps': 190, 'decay_start_episode': 2410, 'test_episodes': 239, 'exploration_strategy': 'linear_decay'}. Best is trial 8 with value: 8.43.\n",
            "[I 2025-05-10 14:48:05,341] Trial 28 finished with value: 8.18 and parameters: {'alpha': 0.5130950771178951, 'gamma': 0.8865243870436773, 'gamma_test': 0.9716580915427125, 'epsilon': 0.9604102349900011, 'epsilon_decay': 0.9751054502106322, 'min_epsilon': 0.08733974459863203, 'episodes': 14410, 'max_steps': 164, 'decay_start_episode': 4992, 'test_episodes': 213, 'exploration_strategy': 'constant'}. Best is trial 8 with value: 8.43.\n",
            "[I 2025-05-10 14:48:31,427] Trial 29 finished with value: 8.31 and parameters: {'alpha': 0.7311570021124794, 'gamma': 0.9804140905009365, 'gamma_test': 0.9630842743687422, 'epsilon': 0.9092641105602126, 'epsilon_decay': 0.9852410818218383, 'min_epsilon': 0.0555666644092925, 'episodes': 13643, 'max_steps': 255, 'decay_start_episode': 2617, 'test_episodes': 246, 'exploration_strategy': 'exp_decay'}. Best is trial 8 with value: 8.43.\n",
            "[I 2025-05-10 14:49:01,903] Trial 30 finished with value: 7.54 and parameters: {'alpha': 0.6257012685866264, 'gamma': 0.972188483219811, 'gamma_test': 0.9580073765285939, 'epsilon': 0.9893134542017703, 'epsilon_decay': 0.9928422105397116, 'min_epsilon': 0.05644672405911333, 'episodes': 14179, 'max_steps': 260, 'decay_start_episode': 2523, 'test_episodes': 247, 'exploration_strategy': 'exp_decay'}. Best is trial 8 with value: 8.43.\n",
            "[I 2025-05-10 14:49:26,902] Trial 31 finished with value: 7.88 and parameters: {'alpha': 0.7444926077813852, 'gamma': 0.9575746804671633, 'gamma_test': 0.9631585827454798, 'epsilon': 0.9072810533266789, 'epsilon_decay': 0.9842682716316624, 'min_epsilon': 0.03790025037775295, 'episodes': 13741, 'max_steps': 366, 'decay_start_episode': 2190, 'test_episodes': 273, 'exploration_strategy': 'exp_decay'}. Best is trial 8 with value: 8.43.\n",
            "[I 2025-05-10 14:49:53,237] Trial 32 finished with value: 8.01 and parameters: {'alpha': 0.733694111273228, 'gamma': 0.9885186842815603, 'gamma_test': 0.9555992708584946, 'epsilon': 0.91455782416106, 'epsilon_decay': 0.9816610186517354, 'min_epsilon': 0.06568222771774962, 'episodes': 13448, 'max_steps': 276, 'decay_start_episode': 2760, 'test_episodes': 228, 'exploration_strategy': 'exp_decay'}. Best is trial 8 with value: 8.43.\n",
            "[I 2025-05-10 14:50:16,752] Trial 33 finished with value: 7.76 and parameters: {'alpha': 0.6812623056466639, 'gamma': 0.8978999915667317, 'gamma_test': 0.9657473731272391, 'epsilon': 0.8923189896888388, 'epsilon_decay': 0.9718631673640198, 'min_epsilon': 0.05087562457028561, 'episodes': 12271, 'max_steps': 221, 'decay_start_episode': 3303, 'test_episodes': 281, 'exploration_strategy': 'exp_decay'}. Best is trial 8 with value: 8.43.\n",
            "[I 2025-05-10 14:50:43,568] Trial 34 finished with value: 7.75 and parameters: {'alpha': 0.774848011491469, 'gamma': 0.9155987965246608, 'gamma_test': 0.9550330321644172, 'epsilon': 0.9094087964273779, 'epsilon_decay': 0.9777670113965222, 'min_epsilon': 0.058923768731540156, 'episodes': 13720, 'max_steps': 248, 'decay_start_episode': 7378, 'test_episodes': 264, 'exploration_strategy': 'exp_decay'}. Best is trial 8 with value: 8.43.\n",
            "[I 2025-05-10 14:51:12,280] Trial 35 finished with value: 7.99 and parameters: {'alpha': 0.5835059663782783, 'gamma': 0.9679092230274718, 'gamma_test': 0.9776703743706332, 'epsilon': 0.9338922966565637, 'epsilon_decay': 0.9860554624071876, 'min_epsilon': 0.013885057735132655, 'episodes': 12860, 'max_steps': 324, 'decay_start_episode': 3892, 'test_episodes': 297, 'exploration_strategy': 'exp_decay'}. Best is trial 8 with value: 8.43.\n",
            "[I 2025-05-10 14:51:43,341] Trial 36 finished with value: 7.81 and parameters: {'alpha': 0.7629049989804119, 'gamma': 0.9780848665247922, 'gamma_test': 0.9600119782270279, 'epsilon': 0.9805640894164044, 'epsilon_decay': 0.9970670388259008, 'min_epsilon': 0.045689444669234615, 'episodes': 14443, 'max_steps': 391, 'decay_start_episode': 5848, 'test_episodes': 250, 'exploration_strategy': 'exp_decay'}. Best is trial 8 with value: 8.43.\n",
            "[I 2025-05-10 14:52:09,728] Trial 37 finished with value: 8.06 and parameters: {'alpha': 0.639819952048758, 'gamma': 0.9338275159591001, 'gamma_test': 0.9695016443161567, 'epsilon': 0.8996367009271148, 'epsilon_decay': 0.9907351366872895, 'min_epsilon': 0.0946363584225085, 'episodes': 14872, 'max_steps': 320, 'decay_start_episode': 4411, 'test_episodes': 286, 'exploration_strategy': 'linear_decay'}. Best is trial 8 with value: 8.43.\n",
            "[I 2025-05-10 14:52:38,190] Trial 38 finished with value: 7.77 and parameters: {'alpha': 0.7254273624504615, 'gamma': 0.9057288432652875, 'gamma_test': 0.9748793266064212, 'epsilon': 0.9632517688016348, 'epsilon_decay': 0.9655929211603183, 'min_epsilon': 0.08738061599993761, 'episodes': 13483, 'max_steps': 195, 'decay_start_episode': 3459, 'test_episodes': 215, 'exploration_strategy': 'linear_decay'}. Best is trial 8 with value: 8.43.\n",
            "[I 2025-05-10 14:52:59,514] Trial 39 finished with value: 7.87 and parameters: {'alpha': 0.6679278197015593, 'gamma': 0.879479401485755, 'gamma_test': 0.9522226241736542, 'epsilon': 0.8712279934918319, 'epsilon_decay': 0.9594338904398839, 'min_epsilon': 0.06215034253150844, 'episodes': 10596, 'max_steps': 363, 'decay_start_episode': 2657, 'test_episodes': 124, 'exploration_strategy': 'constant'}. Best is trial 8 with value: 8.43.\n",
            "[I 2025-05-10 14:53:28,770] Trial 40 finished with value: 7.61 and parameters: {'alpha': 0.7938597716022022, 'gamma': 0.9195234651243824, 'gamma_test': 0.9802508792848226, 'epsilon': 0.9962680737874277, 'epsilon_decay': 0.9762275014232972, 'min_epsilon': 0.07625028673694936, 'episodes': 11143, 'max_steps': 171, 'decay_start_episode': 5348, 'test_episodes': 237, 'exploration_strategy': 'exp_decay'}. Best is trial 8 with value: 8.43.\n",
            "[I 2025-05-10 14:53:59,129] Trial 41 finished with value: 7.54 and parameters: {'alpha': 0.5401977371546702, 'gamma': 0.8926045087035659, 'gamma_test': 0.9712240002354634, 'epsilon': 0.9585694576471114, 'epsilon_decay': 0.9750832100748787, 'min_epsilon': 0.08768204371377591, 'episodes': 14264, 'max_steps': 149, 'decay_start_episode': 6149, 'test_episodes': 202, 'exploration_strategy': 'constant'}. Best is trial 8 with value: 8.43.\n",
            "[I 2025-05-10 14:54:28,618] Trial 42 finished with value: 7.88 and parameters: {'alpha': 0.5183173881465768, 'gamma': 0.887301338532262, 'gamma_test': 0.9734043638195854, 'epsilon': 0.9434967299458922, 'epsilon_decay': 0.9735430637062983, 'min_epsilon': 0.02499525625746015, 'episodes': 14681, 'max_steps': 132, 'decay_start_episode': 5143, 'test_episodes': 218, 'exploration_strategy': 'constant'}. Best is trial 8 with value: 8.43.\n",
            "[I 2025-05-10 14:54:58,623] Trial 43 finished with value: 8.16 and parameters: {'alpha': 0.48794944060111867, 'gamma': 0.9029886979728501, 'gamma_test': 0.9659849742833364, 'epsilon': 0.9548555465330509, 'epsilon_decay': 0.978296880338087, 'min_epsilon': 0.09626223049324209, 'episodes': 14441, 'max_steps': 169, 'decay_start_episode': 6990, 'test_episodes': 188, 'exploration_strategy': 'constant'}. Best is trial 8 with value: 8.43.\n",
            "[I 2025-05-10 14:55:29,186] Trial 44 finished with value: 7.95 and parameters: {'alpha': 0.5688986877208467, 'gamma': 0.8623566541820922, 'gamma_test': 0.9686672323236742, 'epsilon': 0.9679422833232457, 'epsilon_decay': 0.9698916699219394, 'min_epsilon': 0.08992749771300694, 'episodes': 13126, 'max_steps': 130, 'decay_start_episode': 5648, 'test_episodes': 254, 'exploration_strategy': 'constant'}. Best is trial 8 with value: 8.43.\n",
            "[I 2025-05-10 14:55:56,889] Trial 45 finished with value: 7.88 and parameters: {'alpha': 0.6039985711927495, 'gamma': 0.8791465259008288, 'gamma_test': 0.9569128374150941, 'epsilon': 0.9177430443862038, 'epsilon_decay': 0.9827621359684819, 'min_epsilon': 0.07875139546934361, 'episodes': 13947, 'max_steps': 205, 'decay_start_episode': 4654, 'test_episodes': 268, 'exploration_strategy': 'constant'}. Best is trial 8 with value: 8.43.\n",
            "[I 2025-05-10 14:56:26,373] Trial 46 finished with value: 7.94 and parameters: {'alpha': 0.5564583613658559, 'gamma': 0.8972050580884594, 'gamma_test': 0.9848766782192936, 'epsilon': 0.9879909681849279, 'epsilon_decay': 0.9644753531387537, 'min_epsilon': 0.06713981090548024, 'episodes': 11727, 'max_steps': 232, 'decay_start_episode': 3752, 'test_episodes': 210, 'exploration_strategy': 'linear_decay'}. Best is trial 8 with value: 8.43.\n",
            "[I 2025-05-10 14:56:54,902] Trial 47 finished with value: 7.85 and parameters: {'alpha': 0.5109122508159126, 'gamma': 0.8716289215645503, 'gamma_test': 0.9793277330313443, 'epsilon': 0.9292154545066029, 'epsilon_decay': 0.9869949576077083, 'min_epsilon': 0.08559738192458988, 'episodes': 14671, 'max_steps': 176, 'decay_start_episode': 6255, 'test_episodes': 282, 'exploration_strategy': 'linear_decay'}. Best is trial 8 with value: 8.43.\n",
            "[I 2025-05-10 14:57:23,446] Trial 48 finished with value: 7.45 and parameters: {'alpha': 0.6876461912473003, 'gamma': 0.8897063840084317, 'gamma_test': 0.964205024339279, 'epsilon': 0.9462508582335589, 'epsilon_decay': 0.9758551231836256, 'min_epsilon': 0.07174809576022559, 'episodes': 11279, 'max_steps': 285, 'decay_start_episode': 4921, 'test_episodes': 178, 'exploration_strategy': 'constant'}. Best is trial 8 with value: 8.43.\n",
            "[I 2025-05-10 14:57:51,909] Trial 49 finished with value: 8.19 and parameters: {'alpha': 0.6425274885456986, 'gamma': 0.9227955052176915, 'gamma_test': 0.9600724772027481, 'epsilon': 0.9371247283754555, 'epsilon_decay': 0.9800586234569005, 'min_epsilon': 0.04313035534079612, 'episodes': 13968, 'max_steps': 239, 'decay_start_episode': 2276, 'test_episodes': 232, 'exploration_strategy': 'linear_decay'}. Best is trial 8 with value: 8.43.\n"
          ]
        }
      ]
    },
    {
      "cell_type": "code",
      "source": [
        "best_params = study.best_params\n",
        "best_reward = study.best_value"
      ],
      "metadata": {
        "id": "Dz53Ymdd478S"
      },
      "execution_count": null,
      "outputs": []
    },
    {
      "cell_type": "code",
      "source": [
        "print(\"\\nBest hyperparameters:\")\n",
        "print(best_params)\n",
        "print(f\"Best average reward: {best_reward:.2f}\")"
      ],
      "metadata": {
        "colab": {
          "base_uri": "https://localhost:8080/"
        },
        "id": "jYTY6kWU7aG0",
        "outputId": "d710e77b-eca6-403f-ad74-250daddc736a"
      },
      "execution_count": null,
      "outputs": [
        {
          "output_type": "stream",
          "name": "stdout",
          "text": [
            "\n",
            "Best hyperparameters:\n",
            "{'alpha': 0.5921159756744235, 'gamma': 0.891156247145646, 'gamma_test': 0.9577110507831884, 'epsilon': 0.9993703680724215, 'epsilon_decay': 0.9768000277385556, 'min_epsilon': 0.09364653919350596, 'episodes': 11448, 'max_steps': 223, 'decay_start_episode': 4821, 'test_episodes': 272, 'exploration_strategy': 'linear_decay'}\n",
            "Best average reward: 8.43\n"
          ]
        }
      ]
    },
    {
      "cell_type": "code",
      "source": [],
      "metadata": {
        "id": "nSjqzsOPDkdW"
      },
      "execution_count": null,
      "outputs": []
    },
    {
      "cell_type": "code",
      "source": [],
      "metadata": {
        "id": "R-GwGJr7DkZ9"
      },
      "execution_count": null,
      "outputs": []
    },
    {
      "cell_type": "code",
      "source": [
        "#-------------------------------- part 3 --------------------------------"
      ],
      "metadata": {
        "id": "V9CjLfIbPc8G"
      },
      "execution_count": null,
      "outputs": []
    },
    {
      "cell_type": "code",
      "source": [
        "#-------------------------------- without Optuna --------------------------------\n",
        "# 6x6\n",
        "# drop-off 8 points\n",
        "# custom award system"
      ],
      "metadata": {
        "id": "TEq7fqv-gH32"
      },
      "execution_count": null,
      "outputs": []
    },
    {
      "cell_type": "code",
      "source": [
        "import gymnasium as gym\n",
        "from gymnasium.envs.toy_text.taxi import TaxiEnv\n",
        "import numpy as np\n",
        "import random\n",
        "import optuna\n",
        "import matplotlib.pyplot as plt\n",
        "\n",
        "# Define custom 6x6 Taxi environment with more pickup/drop-off points and custom rewards\n",
        "class TaxiEnv6x6(TaxiEnv):\n",
        "    def __init__(self):\n",
        "        self.desc = np.array([\n",
        "            \"+---------+---------+---------+---------+---------+---------+\",\n",
        "            \"| : |   : | :   : |   :   : | :   : |   :   : |\",\n",
        "            \"+ : +---:+---:+ : +---:+ : +---:+ : +---:+ : +\",\n",
        "            \"|   :   : |   :   : |   :   : |   :   : |   :   : |\",\n",
        "            \"+---:+ : +---:+ : +---:+ : +---:+ : +---:+ : +\",\n",
        "            \"| :   : | :   : | :   : | :   : | :   : | :   : |\",\n",
        "            \"+ : +---:+ : +---:+ : +---:+ : +---:+ : +---:+\",\n",
        "            \"|   :   : |   :   : |   :   : |   :   : |   :   : |\",\n",
        "            \"+---:+ : +---:+ : +---:+ : +---:+ : +---:+ : +\",\n",
        "            \"| :   : | :   : | :   : | :   : | :   : | :   : |\",\n",
        "            \"+---------+---------+---------+---------+---------+---------+\"\n",
        "        ])\n",
        "        self.rows = 6\n",
        "        self.cols = 6\n",
        "        self.locs = [\n",
        "            (0, 0),  # Red\n",
        "            (0, 5),  # Green\n",
        "            (5, 0),  # Blue\n",
        "            (5, 5),  # Yellow\n",
        "            (2, 2),  # New: Center\n",
        "            (3, 3),  # New: Lower-middle\n",
        "            (1, 4),  # New: Right-top\n",
        "            (4, 1)   # New: Left-bottom\n",
        "        ]\n",
        "        super().__init__()\n",
        "\n",
        "    def step(self, action):\n",
        "        \"\"\"Override to customize reward structure.\"\"\"\n",
        "        state = self.s\n",
        "        transitions = self.P[state][action]\n",
        "        prob, next_state, base_reward, terminated = transitions[0]  # Taxi is deterministic\n",
        "\n",
        "        # Modify reward structure\n",
        "        if base_reward == -10:  # Invalid pickup/drop-off\n",
        "            reward = -20\n",
        "        elif base_reward == 20:  # Successful drop-off\n",
        "            reward = 50\n",
        "        else:\n",
        "            reward = base_reward\n",
        "\n",
        "        self.s = next_state\n",
        "        self.lastaction = action\n",
        "        return next_state, reward, terminated, False, {\"prob\": prob}\n",
        "\n",
        "\n",
        "def train_q_learning(alpha=0.8, gamma=0.95, gamma_test=1.0, epsilon=1.0, epsilon_decay=0.999,\n",
        "                     min_epsilon=0.01, episodes=5000, test_episodes=100,\n",
        "                     max_steps=200, decay_start_episode=3000, exploration_strategy=\"exp_decay\", plot=False):\n",
        "\n",
        "    env = TaxiEnv6x6()  # ✅ Use custom 6x6 environment\n",
        "    state_space_size = env.observation_space.n\n",
        "    action_space_size = env.action_space.n\n",
        "    q_table = np.zeros((state_space_size, action_space_size))\n",
        "    rewards_per_episode = []\n",
        "\n",
        "    for episode in range(episodes):\n",
        "        state, _ = env.reset()\n",
        "        total_reward = 0\n",
        "        done = False\n",
        "\n",
        "        for _ in range(max_steps):\n",
        "            if random.uniform(0, 1) < epsilon:\n",
        "                action = env.action_space.sample()\n",
        "            else:\n",
        "                action = np.argmax(q_table[state, :])\n",
        "\n",
        "            next_state, reward, terminated, truncated, _ = env.step(action)\n",
        "            done = terminated or truncated\n",
        "\n",
        "            old_value = q_table[state, action]\n",
        "            next_max = np.max(q_table[next_state, :])\n",
        "            q_table[state, action] = old_value + alpha * (reward + gamma * next_max - old_value)\n",
        "\n",
        "            state = next_state\n",
        "            total_reward += reward\n",
        "\n",
        "            if done:\n",
        "                break\n",
        "\n",
        "        if episode >= decay_start_episode:\n",
        "            if exploration_strategy == \"exp_decay\":\n",
        "                epsilon = max(min_epsilon, epsilon * epsilon_decay)\n",
        "            elif exploration_strategy == \"linear_decay\":\n",
        "                epsilon = max(min_epsilon, epsilon - 0.001)\n",
        "            # \"constant\" -> no decay\n",
        "\n",
        "        rewards_per_episode.append(total_reward)\n",
        "\n",
        "    if plot:\n",
        "        plt.plot(rewards_per_episode)\n",
        "        plt.title(\"Rewards per Episode (Training)\")\n",
        "        plt.xlabel(\"Episode\")\n",
        "        plt.ylabel(\"Total Reward\")\n",
        "        plt.grid(True)\n",
        "        plt.show()\n",
        "\n",
        "    total_test_reward = 0\n",
        "    for _ in range(test_episodes):\n",
        "        state, _ = env.reset()\n",
        "        test_episode_reward = 0\n",
        "        done = False\n",
        "        for _ in range(max_steps):\n",
        "            action = np.argmax(q_table[state, :])\n",
        "            next_state, reward, terminated, truncated, _ = env.step(action)\n",
        "            done = terminated or truncated\n",
        "            test_episode_reward += reward\n",
        "            state = next_state\n",
        "            if done:\n",
        "                break\n",
        "        total_test_reward += test_episode_reward\n",
        "\n",
        "    average_test_reward = total_test_reward / test_episodes\n",
        "    return average_test_reward\n"
      ],
      "metadata": {
        "id": "t_oowN6ODk94"
      },
      "execution_count": 13,
      "outputs": []
    },
    {
      "cell_type": "code",
      "source": [
        "if __name__ == \"__main__\":\n",
        "    avg_reward = train_q_learning(\n",
        "        alpha=0.8,\n",
        "        gamma=0.95,\n",
        "        epsilon=1.0,\n",
        "        epsilon_decay=0.999,\n",
        "        min_epsilon=0.01,\n",
        "        episodes=5000,\n",
        "        test_episodes=100,\n",
        "        max_steps=200,\n",
        "        decay_start_episode=3000,\n",
        "        exploration_strategy=\"exp_decay\",\n",
        "        plot=True  # Set to False if you don't want to see the plot\n",
        "    )\n",
        "\n",
        "    print(f\"\\n✅ Average Test Reward on drop off points: {avg_reward:.2f}\")\n"
      ],
      "metadata": {
        "colab": {
          "base_uri": "https://localhost:8080/",
          "height": 508
        },
        "id": "GjLDFUTiD4lD",
        "outputId": "b263e777-3a84-4866-eed0-5837b82edc7a"
      },
      "execution_count": 14,
      "outputs": [
        {
          "output_type": "display_data",
          "data": {
            "text/plain": [
              "<Figure size 640x480 with 1 Axes>"
            ],
            "image/png": "[encoded data removed]"
          },
          "metadata": {}
        },
        {
          "output_type": "stream",
          "name": "stdout",
          "text": [
            "\n",
            "✅ Average Test Reward on drop off points: 38.19\n"
          ]
        }
      ]
    },
    {
      "cell_type": "code",
      "source": [],
      "metadata": {
        "id": "MdW_vC_URHFd"
      },
      "execution_count": null,
      "outputs": []
    },
    {
      "cell_type": "code",
      "source": [
        "#-------------------------------- with Optuna --------------------------------\n",
        "\n",
        "# 6x6\n",
        "# drop-off 8 points\n",
        "# custom award system"
      ],
      "metadata": {
        "id": "hSAGKUIYRHCH"
      },
      "execution_count": null,
      "outputs": []
    },
    {
      "cell_type": "code",
      "source": [
        "import gymnasium as gym\n",
        "from gymnasium.envs.toy_text.taxi import TaxiEnv\n",
        "import numpy as np\n",
        "import random\n",
        "import optuna\n",
        "import matplotlib.pyplot as plt\n",
        "\n",
        "# Define custom 6x6 Taxi environment\n",
        "# Define custom 6x6 Taxi environment with extra pickup/drop-off points\n",
        "# Define custom 6x6 Taxi environment with more pickup/drop-off points and custom rewards\n",
        "class TaxiEnv6x6(TaxiEnv):\n",
        "    def __init__(self):\n",
        "        self.desc = np.array([\n",
        "            \"+---------+---------+---------+---------+---------+---------+\",\n",
        "            \"| : |   : | :   : |   :   : | :   : |   :   : |\",\n",
        "            \"+ : +---:+---:+ : +---:+ : +---:+ : +---:+ : +\",\n",
        "            \"|   :   : |   :   : |   :   : |   :   : |   :   : |\",\n",
        "            \"+---:+ : +---:+ : +---:+ : +---:+ : +---:+ : +\",\n",
        "            \"| :   : | :   : | :   : | :   : | :   : | :   : |\",\n",
        "            \"+ : +---:+ : +---:+ : +---:+ : +---:+ : +---:+\",\n",
        "            \"|   :   : |   :   : |   :   : |   :   : |   :   : |\",\n",
        "            \"+---:+ : +---:+ : +---:+ : +---:+ : +---:+ : +\",\n",
        "            \"| :   : | :   : | :   : | :   : | :   : | :   : |\",\n",
        "            \"+---------+---------+---------+---------+---------+---------+\"\n",
        "        ])\n",
        "        self.rows = 6\n",
        "        self.cols = 6\n",
        "        self.locs = [\n",
        "            (0, 0),  # Red\n",
        "            (0, 5),  # Green\n",
        "            (5, 0),  # Blue\n",
        "            (5, 5),  # Yellow\n",
        "            (2, 2),  # New: Center\n",
        "            (3, 3),  # New: Lower-middle\n",
        "            (1, 4),  # New: Right-top\n",
        "            (4, 1)   # New: Left-bottom\n",
        "        ]\n",
        "        super().__init__()\n",
        "\n",
        "    def step(self, action):\n",
        "        \"\"\"Override to customize reward structure.\"\"\"\n",
        "        state = self.s\n",
        "        transitions = self.P[state][action]\n",
        "        prob, next_state, base_reward, terminated = transitions[0]  # Taxi is deterministic\n",
        "\n",
        "        # Modify reward structure\n",
        "        if base_reward == -10:  # Invalid pickup/drop-off\n",
        "            reward = -20\n",
        "        elif base_reward == 20:  # Successful drop-off\n",
        "            reward = 50\n",
        "        else:\n",
        "            reward = base_reward\n",
        "\n",
        "        self.s = next_state\n",
        "        self.lastaction = action\n",
        "        return next_state, reward, terminated, False, {\"prob\": prob}\n",
        "\n",
        "\n",
        "# Training function with parameters\n",
        "def train_q_learning(alpha=0.8, gamma=0.95, gamma_test=1.0, epsilon=1.0, epsilon_decay=0.999,\n",
        "                     min_epsilon=0.01, episodes=5000, test_episodes=100,\n",
        "                     max_steps=200, decay_start_episode=3000, exploration_strategy=\"exp_decay\", plot=False):\n",
        "\n",
        "    env = TaxiEnv6x6()\n",
        "    state_space_size = env.observation_space.n\n",
        "    action_space_size = env.action_space.n\n",
        "    q_table = np.zeros((state_space_size, action_space_size))\n",
        "    rewards_per_episode = []\n",
        "\n",
        "    for episode in range(episodes):\n",
        "        state, _ = env.reset()\n",
        "        total_reward = 0\n",
        "        done = False\n",
        "\n",
        "        for _ in range(max_steps):\n",
        "            if random.uniform(0, 1) < epsilon:\n",
        "                action = env.action_space.sample()\n",
        "            else:\n",
        "                action = np.argmax(q_table[state, :])\n",
        "\n",
        "            next_state, reward, terminated, truncated, _ = env.step(action)\n",
        "            done = terminated or truncated\n",
        "\n",
        "            old_value = q_table[state, action]\n",
        "            next_max = np.max(q_table[next_state, :])\n",
        "            q_table[state, action] = old_value + alpha * (reward + gamma * next_max - old_value)\n",
        "\n",
        "            state = next_state\n",
        "            total_reward += reward\n",
        "\n",
        "            if done:\n",
        "                break\n",
        "\n",
        "        if episode >= decay_start_episode:\n",
        "            if exploration_strategy == \"exp_decay\":\n",
        "                epsilon = max(min_epsilon, epsilon * epsilon_decay)\n",
        "            elif exploration_strategy == \"linear_decay\":\n",
        "                epsilon = max(min_epsilon, epsilon - 0.001)\n",
        "\n",
        "        rewards_per_episode.append(total_reward)\n",
        "\n",
        "    if plot:\n",
        "        plt.plot(rewards_per_episode)\n",
        "        plt.title(\"Rewards per Episode (Training)\")\n",
        "        plt.xlabel(\"Episode\")\n",
        "        plt.ylabel(\"Total Reward\")\n",
        "        plt.grid(True)\n",
        "        plt.show()\n",
        "\n",
        "    total_test_reward = 0\n",
        "    for _ in range(test_episodes):\n",
        "        state, _ = env.reset()\n",
        "        test_episode_reward = 0\n",
        "        done = False\n",
        "        for _ in range(max_steps):\n",
        "            action = np.argmax(q_table[state, :])\n",
        "            next_state, reward, terminated, truncated, _ = env.step(action)\n",
        "            done = terminated or truncated\n",
        "            test_episode_reward += reward\n",
        "            state = next_state\n",
        "            if done:\n",
        "                break\n",
        "        total_test_reward += test_episode_reward\n",
        "\n",
        "    average_test_reward = total_test_reward / test_episodes\n",
        "    return average_test_reward\n",
        "\n",
        "# Optuna objective function\n",
        "def objective(trial):\n",
        "    alpha = trial.suggest_float(\"alpha\", 0.4, 0.8)\n",
        "    gamma = trial.suggest_float(\"gamma\", 0.85, 0.99)\n",
        "    gamma_test = trial.suggest_float(\"gamma_test\", 0.95, 1.0)\n",
        "    epsilon = trial.suggest_float(\"epsilon\", 0.8, 1.0)\n",
        "    epsilon_decay = trial.suggest_float(\"epsilon_decay\", 0.95, 0.9999)\n",
        "    min_epsilon = trial.suggest_float(\"min_epsilon\", 0.01, 0.1)\n",
        "    episodes = trial.suggest_int(\"episodes\", 10000, 15000)\n",
        "    max_steps = trial.suggest_int(\"max_steps\", 100, 400)\n",
        "    decay_start_episode = trial.suggest_int(\"decay_start_episode\", 2000, 8000)\n",
        "    test_episodes = trial.suggest_int(\"test_episodes\", 100, 300)\n",
        "    exploration_strategy = trial.suggest_categorical(\"exploration_strategy\", [\"exp_decay\", \"linear_decay\", \"constant\"])\n",
        "\n",
        "    return train_q_learning(\n",
        "        alpha=alpha,\n",
        "        gamma=gamma,\n",
        "        gamma_test=gamma_test,\n",
        "        epsilon=epsilon,\n",
        "        epsilon_decay=epsilon_decay,\n",
        "        min_epsilon=min_epsilon,\n",
        "        episodes=episodes,\n",
        "        test_episodes=test_episodes,\n",
        "        max_steps=max_steps,\n",
        "        decay_start_episode=decay_start_episode,\n",
        "        exploration_strategy=exploration_strategy,\n",
        "        plot=False\n",
        "    )\n",
        "\n",
        "# Run Optuna Study\n",
        "if __name__ == \"__main__\":\n",
        "    study = optuna.create_study(direction=\"maximize\")\n",
        "    study.optimize(objective, n_trials=10)\n",
        "\n",
        "    best_params = study.best_params\n",
        "    best_reward = study.best_value\n",
        "\n",
        "    print(\"\\n✅ Best hyperparameters found by Optuna:\")\n",
        "    for k, v in best_params.items():\n",
        "        print(f\"{k}: {v}\")\n",
        "    print(f\"\\n🏆 Best average reward on test episodes: {best_reward:.2f}\")\n"
      ],
      "metadata": {
        "colab": {
          "base_uri": "https://localhost:8080/"
        },
        "id": "o_VZk58ARBVp",
        "outputId": "6f99236f-fa9b-4f15-f1c1-a66a629900f4"
      },
      "execution_count": 12,
      "outputs": [
        {
          "output_type": "stream",
          "name": "stderr",
          "text": [
            "[I 2025-05-10 18:03:44,083] A new study created in memory with name: no-name-f884cef6-7096-4be1-be43-d9748abfa54c\n",
            "[I 2025-05-10 18:03:54,959] Trial 0 finished with value: 37.916666666666664 and parameters: {'alpha': 0.4698079052424803, 'gamma': 0.8975600040994984, 'gamma_test': 0.9791176707189762, 'epsilon': 0.8626999431871588, 'epsilon_decay': 0.9650807853415893, 'min_epsilon': 0.07236512131703754, 'episodes': 11459, 'max_steps': 110, 'decay_start_episode': 7983, 'test_episodes': 192, 'exploration_strategy': 'linear_decay'}. Best is trial 0 with value: 37.916666666666664.\n",
            "[I 2025-05-10 18:04:21,499] Trial 1 finished with value: 37.9874213836478 and parameters: {'alpha': 0.5330835531040314, 'gamma': 0.9861134551064035, 'gamma_test': 0.9601352747604642, 'epsilon': 0.9182149244915007, 'epsilon_decay': 0.9852944203769326, 'min_epsilon': 0.09471898451742444, 'episodes': 13535, 'max_steps': 175, 'decay_start_episode': 5299, 'test_episodes': 159, 'exploration_strategy': 'constant'}. Best is trial 1 with value: 37.9874213836478.\n",
            "[I 2025-05-10 18:04:41,486] Trial 2 finished with value: 37.90157480314961 and parameters: {'alpha': 0.5557030269036507, 'gamma': 0.8800643092861237, 'gamma_test': 0.9775136775534665, 'epsilon': 0.8940731117930076, 'epsilon_decay': 0.9719849958895191, 'min_epsilon': 0.054203378459117116, 'episodes': 12128, 'max_steps': 393, 'decay_start_episode': 7582, 'test_episodes': 254, 'exploration_strategy': 'exp_decay'}. Best is trial 1 with value: 37.9874213836478.\n",
            "[I 2025-05-10 18:05:02,819] Trial 3 finished with value: 38.089285714285715 and parameters: {'alpha': 0.7255007749510314, 'gamma': 0.9758920142617594, 'gamma_test': 0.9624313634888316, 'epsilon': 0.965354557988351, 'epsilon_decay': 0.9756945650098776, 'min_epsilon': 0.019592296414247857, 'episodes': 14877, 'max_steps': 329, 'decay_start_episode': 5792, 'test_episodes': 112, 'exploration_strategy': 'linear_decay'}. Best is trial 3 with value: 38.089285714285715.\n",
            "[I 2025-05-10 18:05:14,663] Trial 4 finished with value: 38.13861386138614 and parameters: {'alpha': 0.7821397026321074, 'gamma': 0.8719702407356612, 'gamma_test': 0.9846349112065946, 'epsilon': 0.9788669117525621, 'epsilon_decay': 0.9991813245933937, 'min_epsilon': 0.05611337076007234, 'episodes': 12541, 'max_steps': 177, 'decay_start_episode': 5385, 'test_episodes': 101, 'exploration_strategy': 'linear_decay'}. Best is trial 4 with value: 38.13861386138614.\n",
            "[I 2025-05-10 18:05:34,563] Trial 5 finished with value: 37.57746478873239 and parameters: {'alpha': 0.6691361392502357, 'gamma': 0.8977278166639522, 'gamma_test': 0.9910165969129175, 'epsilon': 0.8528492553210297, 'epsilon_decay': 0.9793519504328241, 'min_epsilon': 0.05329243611352216, 'episodes': 12080, 'max_steps': 230, 'decay_start_episode': 2237, 'test_episodes': 213, 'exploration_strategy': 'constant'}. Best is trial 4 with value: 38.13861386138614.\n",
            "[I 2025-05-10 18:05:44,998] Trial 6 finished with value: 37.66793893129771 and parameters: {'alpha': 0.5011380455029529, 'gamma': 0.9268622514032778, 'gamma_test': 0.9990720373660719, 'epsilon': 0.8537030985501352, 'epsilon_decay': 0.9704239480332182, 'min_epsilon': 0.09098414428183058, 'episodes': 11679, 'max_steps': 223, 'decay_start_episode': 6085, 'test_episodes': 262, 'exploration_strategy': 'exp_decay'}. Best is trial 4 with value: 38.13861386138614.\n",
            "[I 2025-05-10 18:06:19,002] Trial 7 finished with value: 37.68014705882353 and parameters: {'alpha': 0.7097537336570229, 'gamma': 0.8980674886932896, 'gamma_test': 0.9875869426642006, 'epsilon': 0.9090913588628734, 'epsilon_decay': 0.9717168543568567, 'min_epsilon': 0.021456825156840137, 'episodes': 12510, 'max_steps': 365, 'decay_start_episode': 4091, 'test_episodes': 272, 'exploration_strategy': 'constant'}. Best is trial 4 with value: 38.13861386138614.\n",
            "[I 2025-05-10 18:06:28,884] Trial 8 finished with value: 37.988461538461536 and parameters: {'alpha': 0.676608741769813, 'gamma': 0.9324915333798032, 'gamma_test': 0.9685805877700767, 'epsilon': 0.8258137324053192, 'epsilon_decay': 0.9807969007584126, 'min_epsilon': 0.033991301024140094, 'episodes': 13881, 'max_steps': 128, 'decay_start_episode': 6821, 'test_episodes': 260, 'exploration_strategy': 'linear_decay'}. Best is trial 4 with value: 38.13861386138614.\n",
            "[I 2025-05-10 18:06:39,473] Trial 9 finished with value: 37.778894472361806 and parameters: {'alpha': 0.5644772665869751, 'gamma': 0.9486534868653242, 'gamma_test': 0.9676215653792583, 'epsilon': 0.9247112121137566, 'epsilon_decay': 0.9905536963819263, 'min_epsilon': 0.09833460808947181, 'episodes': 14283, 'max_steps': 400, 'decay_start_episode': 2454, 'test_episodes': 199, 'exploration_strategy': 'exp_decay'}. Best is trial 4 with value: 38.13861386138614.\n"
          ]
        },
        {
          "output_type": "stream",
          "name": "stdout",
          "text": [
            "\n",
            "✅ Best hyperparameters found by Optuna:\n",
            "alpha: 0.7821397026321074\n",
            "gamma: 0.8719702407356612\n",
            "gamma_test: 0.9846349112065946\n",
            "epsilon: 0.9788669117525621\n",
            "epsilon_decay: 0.9991813245933937\n",
            "min_epsilon: 0.05611337076007234\n",
            "episodes: 12541\n",
            "max_steps: 177\n",
            "decay_start_episode: 5385\n",
            "test_episodes: 101\n",
            "exploration_strategy: linear_decay\n",
            "\n",
            "🏆 Best average reward on test episodes: 38.14\n"
          ]
        }
      ]
    }
  ]
}