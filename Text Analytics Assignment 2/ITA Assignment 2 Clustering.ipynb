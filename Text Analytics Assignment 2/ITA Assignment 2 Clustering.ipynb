{
  "cells": [
    {
      "cell_type": "code",
      "execution_count": 1,
      "metadata": {
        "id": "yG2Im7DNxGqZ"
      },
      "outputs": [],
      "source": [
        "from google.colab import files\n",
        "import pandas as pd\n",
        "import numpy as np\n",
        "import matplotlib.pyplot as plt\n",
        "import seaborn as sns\n",
        "import nltk\n",
        "import re\n",
        "from nltk.corpus import stopwords\n",
        "from nltk.tokenize import word_tokenize\n",
        "from nltk.stem import WordNetLemmatizer\n",
        "from sklearn.feature_extraction.text import CountVectorizer, TfidfVectorizer\n",
        "from sklearn.decomposition import TruncatedSVD\n",
        "from sklearn.cluster import KMeans\n",
        "from sklearn.metrics import silhouette_score\n",
        "from wordcloud import WordCloud\n"
      ]
    },
    {
      "cell_type": "code",
      "execution_count": 12,
      "metadata": {
        "colab": {
          "base_uri": "https://localhost:8080/"
        },
        "id": "FVttf9PBxMgD",
        "outputId": "c92fbd3f-d3ed-480b-e23f-154b77f54d9a"
      },
      "outputs": [
        {
          "name": "stderr",
          "output_type": "stream",
          "text": [
            "[nltk_data] Downloading package stopwords to /root/nltk_data...\n",
            "[nltk_data]   Package stopwords is already up-to-date!\n",
            "[nltk_data] Downloading package punkt_tab to /root/nltk_data...\n",
            "[nltk_data]   Unzipping tokenizers/punkt_tab.zip.\n",
            "[nltk_data] Downloading package wordnet to /root/nltk_data...\n",
            "[nltk_data]   Package wordnet is already up-to-date!\n"
          ]
        },
        {
          "data": {
            "text/plain": [
              "True"
            ]
          },
          "execution_count": 12,
          "metadata": {},
          "output_type": "execute_result"
        }
      ],
      "source": [
        "nltk.download('stopwords')\n",
        "nltk.download('punkt_tab')\n",
        "nltk.download('wordnet')"
      ]
    },
    {
      "cell_type": "code",
      "execution_count": 3,
      "metadata": {
        "colab": {
          "base_uri": "https://localhost:8080/",
          "height": 74
        },
        "id": "9tGulN2mxRYk",
        "outputId": "39400e6a-8561-4068-954d-a3551d3d1126"
      },
      "outputs": [
        {
          "data": {
            "text/html": [
              "\n",
              "     <input type=\"file\" id=\"files-e87d9e0b-6a95-4413-bfd0-e96a1f3d8c47\" name=\"files[]\" multiple disabled\n",
              "        style=\"border:none\" />\n",
              "     <output id=\"result-e87d9e0b-6a95-4413-bfd0-e96a1f3d8c47\">\n",
              "      Upload widget is only available when the cell has been executed in the\n",
              "      current browser session. Please rerun this cell to enable.\n",
              "      </output>\n",
              "      <script>// Copyright 2017 Google LLC\n",
              "//\n",
              "// Licensed under the Apache License, Version 2.0 (the \"License\");\n",
              "// you may not use this file except in compliance with the License.\n",
              "// You may obtain a copy of the License at\n",
              "//\n",
              "//      http://www.apache.org/licenses/LICENSE-2.0\n",
              "//\n",
              "// Unless required by applicable law or agreed to in writing, software\n",
              "// distributed under the License is distributed on an \"AS IS\" BASIS,\n",
              "// WITHOUT WARRANTIES OR CONDITIONS OF ANY KIND, either express or implied.\n",
              "// See the License for the specific language governing permissions and\n",
              "// limitations under the License.\n",
              "\n",
              "/**\n",
              " * @fileoverview Helpers for google.colab Python module.\n",
              " */\n",
              "(function(scope) {\n",
              "function span(text, styleAttributes = {}) {\n",
              "  const element = document.createElement('span');\n",
              "  element.textContent = text;\n",
              "  for (const key of Object.keys(styleAttributes)) {\n",
              "    element.style[key] = styleAttributes[key];\n",
              "  }\n",
              "  return element;\n",
              "}\n",
              "\n",
              "// Max number of bytes which will be uploaded at a time.\n",
              "const MAX_PAYLOAD_SIZE = 100 * 1024;\n",
              "\n",
              "function _uploadFiles(inputId, outputId) {\n",
              "  const steps = uploadFilesStep(inputId, outputId);\n",
              "  const outputElement = document.getElementById(outputId);\n",
              "  // Cache steps on the outputElement to make it available for the next call\n",
              "  // to uploadFilesContinue from Python.\n",
              "  outputElement.steps = steps;\n",
              "\n",
              "  return _uploadFilesContinue(outputId);\n",
              "}\n",
              "\n",
              "// This is roughly an async generator (not supported in the browser yet),\n",
              "// where there are multiple asynchronous steps and the Python side is going\n",
              "// to poll for completion of each step.\n",
              "// This uses a Promise to block the python side on completion of each step,\n",
              "// then passes the result of the previous step as the input to the next step.\n",
              "function _uploadFilesContinue(outputId) {\n",
              "  const outputElement = document.getElementById(outputId);\n",
              "  const steps = outputElement.steps;\n",
              "\n",
              "  const next = steps.next(outputElement.lastPromiseValue);\n",
              "  return Promise.resolve(next.value.promise).then((value) => {\n",
              "    // Cache the last promise value to make it available to the next\n",
              "    // step of the generator.\n",
              "    outputElement.lastPromiseValue = value;\n",
              "    return next.value.response;\n",
              "  });\n",
              "}\n",
              "\n",
              "/**\n",
              " * Generator function which is called between each async step of the upload\n",
              " * process.\n",
              " * @param {string} inputId Element ID of the input file picker element.\n",
              " * @param {string} outputId Element ID of the output display.\n",
              " * @return {!Iterable<!Object>} Iterable of next steps.\n",
              " */\n",
              "function* uploadFilesStep(inputId, outputId) {\n",
              "  const inputElement = document.getElementById(inputId);\n",
              "  inputElement.disabled = false;\n",
              "\n",
              "  const outputElement = document.getElementById(outputId);\n",
              "  outputElement.innerHTML = '';\n",
              "\n",
              "  const pickedPromise = new Promise((resolve) => {\n",
              "    inputElement.addEventListener('change', (e) => {\n",
              "      resolve(e.target.files);\n",
              "    });\n",
              "  });\n",
              "\n",
              "  const cancel = document.createElement('button');\n",
              "  inputElement.parentElement.appendChild(cancel);\n",
              "  cancel.textContent = 'Cancel upload';\n",
              "  const cancelPromise = new Promise((resolve) => {\n",
              "    cancel.onclick = () => {\n",
              "      resolve(null);\n",
              "    };\n",
              "  });\n",
              "\n",
              "  // Wait for the user to pick the files.\n",
              "  const files = yield {\n",
              "    promise: Promise.race([pickedPromise, cancelPromise]),\n",
              "    response: {\n",
              "      action: 'starting',\n",
              "    }\n",
              "  };\n",
              "\n",
              "  cancel.remove();\n",
              "\n",
              "  // Disable the input element since further picks are not allowed.\n",
              "  inputElement.disabled = true;\n",
              "\n",
              "  if (!files) {\n",
              "    return {\n",
              "      response: {\n",
              "        action: 'complete',\n",
              "      }\n",
              "    };\n",
              "  }\n",
              "\n",
              "  for (const file of files) {\n",
              "    const li = document.createElement('li');\n",
              "    li.append(span(file.name, {fontWeight: 'bold'}));\n",
              "    li.append(span(\n",
              "        `(${file.type || 'n/a'}) - ${file.size} bytes, ` +\n",
              "        `last modified: ${\n",
              "            file.lastModifiedDate ? file.lastModifiedDate.toLocaleDateString() :\n",
              "                                    'n/a'} - `));\n",
              "    const percent = span('0% done');\n",
              "    li.appendChild(percent);\n",
              "\n",
              "    outputElement.appendChild(li);\n",
              "\n",
              "    const fileDataPromise = new Promise((resolve) => {\n",
              "      const reader = new FileReader();\n",
              "      reader.onload = (e) => {\n",
              "        resolve(e.target.result);\n",
              "      };\n",
              "      reader.readAsArrayBuffer(file);\n",
              "    });\n",
              "    // Wait for the data to be ready.\n",
              "    let fileData = yield {\n",
              "      promise: fileDataPromise,\n",
              "      response: {\n",
              "        action: 'continue',\n",
              "      }\n",
              "    };\n",
              "\n",
              "    // Use a chunked sending to avoid message size limits. See b/62115660.\n",
              "    let position = 0;\n",
              "    do {\n",
              "      const length = Math.min(fileData.byteLength - position, MAX_PAYLOAD_SIZE);\n",
              "      const chunk = new Uint8Array(fileData, position, length);\n",
              "      position += length;\n",
              "\n",
              "      const base64 = btoa(String.fromCharCode.apply(null, chunk));\n",
              "      yield {\n",
              "        response: {\n",
              "          action: 'append',\n",
              "          file: file.name,\n",
              "          data: base64,\n",
              "        },\n",
              "      };\n",
              "\n",
              "      let percentDone = fileData.byteLength === 0 ?\n",
              "          100 :\n",
              "          Math.round((position / fileData.byteLength) * 100);\n",
              "      percent.textContent = `${percentDone}% done`;\n",
              "\n",
              "    } while (position < fileData.byteLength);\n",
              "  }\n",
              "\n",
              "  // All done.\n",
              "  yield {\n",
              "    response: {\n",
              "      action: 'complete',\n",
              "    }\n",
              "  };\n",
              "}\n",
              "\n",
              "scope.google = scope.google || {};\n",
              "scope.google.colab = scope.google.colab || {};\n",
              "scope.google.colab._files = {\n",
              "  _uploadFiles,\n",
              "  _uploadFilesContinue,\n",
              "};\n",
              "})(self);\n",
              "</script> "
            ],
            "text/plain": [
              "<IPython.core.display.HTML object>"
            ]
          },
          "metadata": {},
          "output_type": "display_data"
        },
        {
          "name": "stdout",
          "output_type": "stream",
          "text": [
            "Saving news_Feb_14.csv to news_Feb_14.csv\n"
          ]
        }
      ],
      "source": [
        "uploaded = files.upload()"
      ]
    },
    {
      "cell_type": "code",
      "execution_count": 4,
      "metadata": {
        "colab": {
          "base_uri": "https://localhost:8080/"
        },
        "id": "8DJvWl7IxX4E",
        "outputId": "d82e1881-b4ce-4213-d194-d045a1c8020d"
      },
      "outputs": [
        {
          "name": "stdout",
          "output_type": "stream",
          "text": [
            "                                               title        date\n",
            "0  ECC endorses purchase of $582mn capital shares...  14/02/2025\n",
            "1  Netanyahu’s statement to establish Palestinian...  14/02/2025\n",
            "2  India, US agree to resolve trade and tariff ro...  14/02/2025\n",
            "3  Aurangzeb discusses Pakistan’s structural refo...  14/02/2025\n",
            "4  HBL, S&P Global launch Pakistan’s first manufa...  14/02/2025\n"
          ]
        }
      ],
      "source": [
        "# Load dataset\n",
        "df = pd.read_csv(\"news_Feb_14.csv\")\n",
        "\n",
        "# Display first few rows\n",
        "print(df.head())"
      ]
    },
    {
      "cell_type": "code",
      "execution_count": null,
      "metadata": {
        "id": "WCHV5RrxxbqG"
      },
      "outputs": [],
      "source": [
        "# Ensure column names are correct\n",
        "df.columns = [col.strip() for col in df.columns]  #Ensures there are no unwanted leading/trailing spaces in column names.\n",
        "df = df.dropna(subset=['title'])  #Removes rows where the 'title' column (news headline) is missing to avoid errors in text processing.\n"
      ]
    },
    {
      "cell_type": "code",
      "execution_count": 6,
      "metadata": {
        "id": "urdVxEGNxf7P"
      },
      "outputs": [],
      "source": [
        "stop_words = set(stopwords.words(\"english\"))\n",
        "lemmatizer = WordNetLemmatizer()"
      ]
    },
    {
      "cell_type": "code",
      "execution_count": null,
      "metadata": {
        "id": "sWmSB0trxjXQ"
      },
      "outputs": [],
      "source": [
        "def preprocess_text(text):\n",
        "    text = text.lower()  #Converts all text to lowercase (text.lower()) to avoid case sensitivity issues (e.g., \"Apple\" and \"apple\" should be the same).\n",
        "    text = re.sub(r'\\W+', ' ', text)  #Removes punctuation, numbers, and special symbols to focus on meaningful words.\n",
        "    tokens = word_tokenize(text)  #Splits text into individual words.\n",
        "    tokens = [lemmatizer.lemmatize(word) for word in tokens if word not in stop_words]  #Converts words to their base form (e.g., \"running\" -> \"run\").\n",
        "                                                                                        #Removes common words (e.g., \"the\", \"is\") that don’t contribute much meaning.\n",
        "    return \" \".join(tokens)"
      ]
    },
    {
      "cell_type": "code",
      "execution_count": 13,
      "metadata": {
        "id": "u4dBhvl_xmSr"
      },
      "outputs": [],
      "source": [
        "# Apply preprocessing\n",
        "df[\"Processed_title\"] = df[\"title\"].apply(preprocess_text)"
      ]
    },
    {
      "cell_type": "code",
      "execution_count": null,
      "metadata": {
        "id": "0l9YI470yYjj"
      },
      "outputs": [],
      "source": [
        "# Step 3: Convert Text to Features (BoW, TF-IDF, LSA)\n",
        "vectorizer_tfidf = TfidfVectorizer(max_features=1000)  # Using TF-IDF\n",
        "X_tfidf = vectorizer_tfidf.fit_transform(df[\"Processed_title\"])\n",
        "\n",
        "#TF-IDF (Term Frequency-Inverse Document Frequency) assigns weight based on importance:\n",
        "# TF-IDF=TFxlog(N/DF) \n"
      ]
    },
    {
      "cell_type": "code",
      "execution_count": null,
      "metadata": {
        "id": "pqyd8yLMyb9h"
      },
      "outputs": [],
      "source": [
        "#I used truncatedSVD because when analyzing it performed the best on the dataset\n",
        "#Converts high-dimensional TF-IDF vectors into a lower-dimensional semantic space.\n",
        "#n_components=3: Reduces dimensions to 3 key topics.\n",
        "\n",
        "#Based on previous evaluations, using n_components=3 with k=13 gave the best clustering results.\n",
        "\n",
        "lsa = TruncatedSVD(n_components=3) \n",
        "X_lsa = lsa.fit_transform(X_tfidf)"
      ]
    },
    {
      "cell_type": "code",
      "execution_count": 16,
      "metadata": {
        "id": "Dutp4Uk9yiDe"
      },
      "outputs": [],
      "source": [
        "# Step 4: Cluster Using K-Means\n",
        "k = 13  # Number of clusters\n",
        "kmeans = KMeans(n_clusters=k, random_state=42, n_init=10)\n",
        "df['Cluster'] = kmeans.fit_predict(X_lsa)"
      ]
    },
    {
      "cell_type": "code",
      "execution_count": null,
      "metadata": {
        "id": "fpQSu-lGyl9y"
      },
      "outputs": [],
      "source": [
        "# Step 5: Evaluate Clustering\n",
        "wss = [] #WSS (Within-Cluster Sum of Squares): Measures how compact clusters are. Lower WSS-> Better clustering.\n",
        "sil_scores = [] #Silhouette Score: Measures how well-separated clusters are. Higher silhouette score -> Better-defined clusters.\n",
        "\n",
        "for i in range(2, 15):  # Try different k values\n",
        "    km = KMeans(n_clusters=i, random_state=42, n_init=10)\n",
        "    labels = km.fit_predict(X_lsa)\n",
        "\n",
        "    wss.append(km.inertia_)  # WSS Score\n",
        "    sil_scores.append(silhouette_score(X_lsa, labels))  # Silhouette Score"
      ]
    },
    {
      "cell_type": "code",
      "execution_count": 18,
      "metadata": {
        "colab": {
          "base_uri": "https://localhost:8080/",
          "height": 957
        },
        "id": "uOaZY38jyqz6",
        "outputId": "00225ba5-4619-4e2f-dcce-446f790dc246"
      },
      "outputs": [
        {
          "data": {
            "image/png": "[encoded data removed]",
            "text/plain": [
              "<Figure size 1000x500 with 1 Axes>"
            ]
          },
          "metadata": {},
          "output_type": "display_data"
        },
        {
          "data": {
            "image/png": "[encoded data removed]",
            "text/plain": [
              "<Figure size 1000x500 with 1 Axes>"
            ]
          },
          "metadata": {},
          "output_type": "display_data"
        }
      ],
      "source": [
        "# Plot Elbow Curve\n",
        "plt.figure(figsize=(10,5))\n",
        "plt.plot(range(2, 15), wss, marker=\"o\")\n",
        "plt.xlabel(\"Number of Clusters (k)\")\n",
        "plt.ylabel(\"WSS (Within Cluster Sum of Squares)\")\n",
        "plt.title(\"Elbow Method for Optimal k\")\n",
        "plt.show()\n",
        "\n",
        "# Plot Silhouette Scores\n",
        "plt.figure(figsize=(10,5))\n",
        "plt.plot(range(2, 15), sil_scores, marker=\"o\", color=\"red\")\n",
        "plt.xlabel(\"Number of Clusters (k)\")\n",
        "plt.ylabel(\"Silhouette Score\")\n",
        "plt.title(\"Silhouette Score for Clustering Quality\")\n",
        "plt.show()"
      ]
    },
    {
      "cell_type": "code",
      "execution_count": null,
      "metadata": {
        "colab": {
          "base_uri": "https://localhost:8080/"
        },
        "id": "HAAzZsPKyvgc",
        "outputId": "544b376a-df79-48e7-d9f1-faf3f5e3c230"
      },
      "outputs": [
        {
          "name": "stdout",
          "output_type": "stream",
          "text": [
            "\n",
            "🔹 Cluster 0:\n",
            "UAE Blue Visa: Can Pakistanis qualify for 10-ye...\n",
            "      Aurat March kickstarts in February this year\n",
            "Balochistan CM announces Pink scooties, electri...\n",
            "CM Maryam announces 3-marla plots for homeless ...\n",
            "Sindh govt relaxes timing of ban on entry of he...\n",
            "\n",
            "🔹 Cluster 1:\n",
            "Pakistan withdraws key powers from FBR on IMF d...\n",
            "Top global funds turn to Pakistan as 84% stock ...\n",
            "Pakistan CPI 2024 – deep-rooted corruption pers...\n",
            "       US deports migrants from Pakistan to Panama\n",
            "Turkish President Erdogan reaches PM House for ...\n",
            "\n",
            "🔹 Cluster 2:\n",
            "Champions Trophy 2025: squads, groups and schedule\n",
            "ICC announces prize money breakdown for Champio...\n",
            "Champions Trophy 2025 Prize Money Breakdown in ...\n",
            "ICC announces prize money for 2025 Champions Tr...\n",
            "     List of players to miss Champions Trophy 2025\n",
            "\n",
            "🔹 Cluster 3:\n",
            "UK, US agree Zelenskiy must be part of Ukraine ...\n",
            "South African rand firms after Trump’s tariff m...\n",
            "India expects $200 million missile deal with Ph...\n",
            "Economic indicators showing positive trends, sa...\n",
            "Holding peaceful meetings democratic right of a...\n",
            "\n",
            "🔹 Cluster 4:\n",
            "Three Pakistani players fined for ICC code of c...\n",
            "PAF’s JF-17 to perform at Champions Trophy open...\n",
            "CSS 2025 exam to begin as scheduled after IHC d...\n",
            "Excellence Over Perfection: Highlights from the...\n",
            "Feb 14 last date to submit third installment fo...\n",
            "\n",
            "🔹 Cluster 5:\n",
            "Turkiye’s President Erdogan wraps up two-day vi...\n",
            "Pakistan’s external debt servicing jumps to $4....\n",
            "Pakistan set 243-run target for New Zealand in ...\n",
            "Field of education: Pakistan, Kazakhstan for en...\n",
            " Pakistan, Turkiye pledge to boost ties, $5b trade\n",
            "\n",
            "🔹 Cluster 6:\n",
            "          PFC makes significant impact at 11th IDF\n",
            "CM Murad invites Japanese companies to invest i...\n",
            "PMDC, Kazakh govt vow to cooperate in medical e...\n",
            "7 Beauty Secrets Celebrities Swear By (And How ...\n",
            "The Ultimate Guide to Healing Foods: Eat Your W...\n",
            "\n",
            "🔹 Cluster 7:\n",
            "House Democrats urge Trump to retract comments ...\n",
            "           May 9 crossed all limits, says CB judge\n",
            "Europe warns Trump against Ukraine deal ‘behind...\n",
            "This Valentine's Day, say yes to socks and no t...\n",
            "PTI backed military courts after APS attack, sa...\n",
            "\n",
            "🔹 Cluster 8:\n",
            "10 Movies to Watch at Home If You're Single on ...\n",
            "Bollywood music labels seek to challenge OpenAI...\n",
            " Deepika Padukone talks exam stress, mental health\n",
            "International Childhood Cancer Day: Living well...\n",
            "AJK interior minister claims India behind smugg...\n",
            "\n",
            "🔹 Cluster 9:\n",
            "Pakistan Air Force fighter Jets to kick off ICC...\n",
            "Honda City updated five-year installment plan i...\n",
            "Pakistan’s 2nd polio case of 2025 reported in B...\n",
            "    Gold rate in Pakistan today, 14 February, 2025\n",
            "\n",
            "🔹 Cluster 10:\n",
            "PM Shehbaz calls for stronger UN partnership on...\n",
            "Key banks implicated in Rs117bn over-invoicing ...\n",
            "SBP grants FPT clearance to Zia Ijaz as Askari ...\n",
            "Hubco expands into EV charging sector with new ...\n",
            "      Wang's London visit marks revival of UK ties\n",
            "\n",
            "🔹 Cluster 11:\n",
            "Pakistan Refinery says will shut down plant for...\n",
            "Int­er­national Finance Corpo­ration chief urge...\n",
            "Pakistan on new journey towards stability, pros...\n",
            "\n",
            "🔹 Cluster 12:\n",
            "Emirati ambassador to Washington says ‘no alter...\n",
            "Trump says US has approved extradition of suspe...\n",
            "Arab nations band together against Trump's Gaza...\n",
            "India, US agree to resolve trade and tariff row...\n",
            "India’s Modi brings a tariff ‘gift’ to Trump talks\n"
          ]
        }
      ],
      "source": [
        "# Step 6: Display Sample Headlines from Each Cluster\n",
        "for cluster_num in range(k):\n",
        "    print(f\"\\n🔹 Cluster {cluster_num}:\")\n",
        "    sample_headlines = df[df[\"Cluster\"] == cluster_num][\"title\"].sample(n=min(5, len(df[df[\"Cluster\"] == cluster_num])), random_state=42) #min 5 samples\n",
        "    print(sample_headlines.to_string(index=False))"
      ]
    },
    {
      "cell_type": "code",
      "execution_count": 24,
      "metadata": {
        "colab": {
          "base_uri": "https://localhost:8080/"
        },
        "id": "UpJM348c0Oba",
        "outputId": "029c22ee-9305-49e8-a125-e211e970f82a"
      },
      "outputs": [
        {
          "name": "stdout",
          "output_type": "stream",
          "text": [
            "Clusters saved to 'clustered_titles.txt' successfully!\n"
          ]
        }
      ],
      "source": [
        "# Save clustered headlines to a text file\n",
        "with open(\"clustered_titles.txt\", \"w\", encoding=\"utf-8\") as f:\n",
        "    for i in range(k):\n",
        "        f.write(f\"Cluster {i}:\\n\")\n",
        "        f.write(\"-\" * 50 + \"\\n\")\n",
        "        headlines = df[df[\"Cluster\"] == i][\"title\"].tolist()\n",
        "        for headline in headlines:\n",
        "            f.write(headline + \"\\n\")\n",
        "        f.write(\"\\n\")  # Add a new line for better readability\n",
        "\n",
        "print(\"Clusters saved to 'clustered_titles.txt' successfully!\")\n"
      ]
    }
  ],
  "metadata": {
    "colab": {
      "provenance": []
    },
    "kernelspec": {
      "display_name": "Python 3",
      "name": "python3"
    },
    "language_info": {
      "name": "python"
    }
  },
  "nbformat": 4,
  "nbformat_minor": 0
}
