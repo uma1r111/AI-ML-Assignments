{
  "nbformat": 4,
  "nbformat_minor": 0,
  "metadata": {
    "colab": {
      "provenance": []
    },
    "kernelspec": {
      "name": "python3",
      "display_name": "Python 3"
    },
    "language_info": {
      "name": "python"
    }
  },
  "cells": [
    {
      "cell_type": "code",
      "execution_count": 15,
      "metadata": {
        "colab": {
          "base_uri": "https://localhost:8080/",
          "height": 74
        },
        "id": "8Dk3lT0aCZkc",
        "outputId": "17345068-97a2-4b93-9ce8-6ffaa1d5df4d"
      },
      "outputs": [
        {
          "output_type": "display_data",
          "data": {
            "text/plain": [
              "<IPython.core.display.HTML object>"
            ],
            "text/html": [
              "\n",
              "     <input type=\"file\" id=\"files-8e375c8f-4681-4311-815e-d58f025e64e3\" name=\"files[]\" multiple disabled\n",
              "        style=\"border:none\" />\n",
              "     <output id=\"result-8e375c8f-4681-4311-815e-d58f025e64e3\">\n",
              "      Upload widget is only available when the cell has been executed in the\n",
              "      current browser session. Please rerun this cell to enable.\n",
              "      </output>\n",
              "      <script>// Copyright 2017 Google LLC\n",
              "//\n",
              "// Licensed under the Apache License, Version 2.0 (the \"License\");\n",
              "// you may not use this file except in compliance with the License.\n",
              "// You may obtain a copy of the License at\n",
              "//\n",
              "//      http://www.apache.org/licenses/LICENSE-2.0\n",
              "//\n",
              "// Unless required by applicable law or agreed to in writing, software\n",
              "// distributed under the License is distributed on an \"AS IS\" BASIS,\n",
              "// WITHOUT WARRANTIES OR CONDITIONS OF ANY KIND, either express or implied.\n",
              "// See the License for the specific language governing permissions and\n",
              "// limitations under the License.\n",
              "\n",
              "/**\n",
              " * @fileoverview Helpers for google.colab Python module.\n",
              " */\n",
              "(function(scope) {\n",
              "function span(text, styleAttributes = {}) {\n",
              "  const element = document.createElement('span');\n",
              "  element.textContent = text;\n",
              "  for (const key of Object.keys(styleAttributes)) {\n",
              "    element.style[key] = styleAttributes[key];\n",
              "  }\n",
              "  return element;\n",
              "}\n",
              "\n",
              "// Max number of bytes which will be uploaded at a time.\n",
              "const MAX_PAYLOAD_SIZE = 100 * 1024;\n",
              "\n",
              "function _uploadFiles(inputId, outputId) {\n",
              "  const steps = uploadFilesStep(inputId, outputId);\n",
              "  const outputElement = document.getElementById(outputId);\n",
              "  // Cache steps on the outputElement to make it available for the next call\n",
              "  // to uploadFilesContinue from Python.\n",
              "  outputElement.steps = steps;\n",
              "\n",
              "  return _uploadFilesContinue(outputId);\n",
              "}\n",
              "\n",
              "// This is roughly an async generator (not supported in the browser yet),\n",
              "// where there are multiple asynchronous steps and the Python side is going\n",
              "// to poll for completion of each step.\n",
              "// This uses a Promise to block the python side on completion of each step,\n",
              "// then passes the result of the previous step as the input to the next step.\n",
              "function _uploadFilesContinue(outputId) {\n",
              "  const outputElement = document.getElementById(outputId);\n",
              "  const steps = outputElement.steps;\n",
              "\n",
              "  const next = steps.next(outputElement.lastPromiseValue);\n",
              "  return Promise.resolve(next.value.promise).then((value) => {\n",
              "    // Cache the last promise value to make it available to the next\n",
              "    // step of the generator.\n",
              "    outputElement.lastPromiseValue = value;\n",
              "    return next.value.response;\n",
              "  });\n",
              "}\n",
              "\n",
              "/**\n",
              " * Generator function which is called between each async step of the upload\n",
              " * process.\n",
              " * @param {string} inputId Element ID of the input file picker element.\n",
              " * @param {string} outputId Element ID of the output display.\n",
              " * @return {!Iterable<!Object>} Iterable of next steps.\n",
              " */\n",
              "function* uploadFilesStep(inputId, outputId) {\n",
              "  const inputElement = document.getElementById(inputId);\n",
              "  inputElement.disabled = false;\n",
              "\n",
              "  const outputElement = document.getElementById(outputId);\n",
              "  outputElement.innerHTML = '';\n",
              "\n",
              "  const pickedPromise = new Promise((resolve) => {\n",
              "    inputElement.addEventListener('change', (e) => {\n",
              "      resolve(e.target.files);\n",
              "    });\n",
              "  });\n",
              "\n",
              "  const cancel = document.createElement('button');\n",
              "  inputElement.parentElement.appendChild(cancel);\n",
              "  cancel.textContent = 'Cancel upload';\n",
              "  const cancelPromise = new Promise((resolve) => {\n",
              "    cancel.onclick = () => {\n",
              "      resolve(null);\n",
              "    };\n",
              "  });\n",
              "\n",
              "  // Wait for the user to pick the files.\n",
              "  const files = yield {\n",
              "    promise: Promise.race([pickedPromise, cancelPromise]),\n",
              "    response: {\n",
              "      action: 'starting',\n",
              "    }\n",
              "  };\n",
              "\n",
              "  cancel.remove();\n",
              "\n",
              "  // Disable the input element since further picks are not allowed.\n",
              "  inputElement.disabled = true;\n",
              "\n",
              "  if (!files) {\n",
              "    return {\n",
              "      response: {\n",
              "        action: 'complete',\n",
              "      }\n",
              "    };\n",
              "  }\n",
              "\n",
              "  for (const file of files) {\n",
              "    const li = document.createElement('li');\n",
              "    li.append(span(file.name, {fontWeight: 'bold'}));\n",
              "    li.append(span(\n",
              "        `(${file.type || 'n/a'}) - ${file.size} bytes, ` +\n",
              "        `last modified: ${\n",
              "            file.lastModifiedDate ? file.lastModifiedDate.toLocaleDateString() :\n",
              "                                    'n/a'} - `));\n",
              "    const percent = span('0% done');\n",
              "    li.appendChild(percent);\n",
              "\n",
              "    outputElement.appendChild(li);\n",
              "\n",
              "    const fileDataPromise = new Promise((resolve) => {\n",
              "      const reader = new FileReader();\n",
              "      reader.onload = (e) => {\n",
              "        resolve(e.target.result);\n",
              "      };\n",
              "      reader.readAsArrayBuffer(file);\n",
              "    });\n",
              "    // Wait for the data to be ready.\n",
              "    let fileData = yield {\n",
              "      promise: fileDataPromise,\n",
              "      response: {\n",
              "        action: 'continue',\n",
              "      }\n",
              "    };\n",
              "\n",
              "    // Use a chunked sending to avoid message size limits. See b/62115660.\n",
              "    let position = 0;\n",
              "    do {\n",
              "      const length = Math.min(fileData.byteLength - position, MAX_PAYLOAD_SIZE);\n",
              "      const chunk = new Uint8Array(fileData, position, length);\n",
              "      position += length;\n",
              "\n",
              "      const base64 = btoa(String.fromCharCode.apply(null, chunk));\n",
              "      yield {\n",
              "        response: {\n",
              "          action: 'append',\n",
              "          file: file.name,\n",
              "          data: base64,\n",
              "        },\n",
              "      };\n",
              "\n",
              "      let percentDone = fileData.byteLength === 0 ?\n",
              "          100 :\n",
              "          Math.round((position / fileData.byteLength) * 100);\n",
              "      percent.textContent = `${percentDone}% done`;\n",
              "\n",
              "    } while (position < fileData.byteLength);\n",
              "  }\n",
              "\n",
              "  // All done.\n",
              "  yield {\n",
              "    response: {\n",
              "      action: 'complete',\n",
              "    }\n",
              "  };\n",
              "}\n",
              "\n",
              "scope.google = scope.google || {};\n",
              "scope.google.colab = scope.google.colab || {};\n",
              "scope.google.colab._files = {\n",
              "  _uploadFiles,\n",
              "  _uploadFilesContinue,\n",
              "};\n",
              "})(self);\n",
              "</script> "
            ]
          },
          "metadata": {}
        },
        {
          "output_type": "stream",
          "name": "stdout",
          "text": [
            "Saving news_Feb_14.csv to news_Feb_14 (2).csv\n"
          ]
        }
      ],
      "source": [
        "from google.colab import files\n",
        "\n",
        "\n",
        "uploaded = files.upload()"
      ]
    },
    {
      "cell_type": "code",
      "source": [
        "import pandas as pd\n",
        "import io\n",
        "\n",
        "df = pd.read_csv(io.BytesIO(uploaded['news_Feb_14 (2).csv']))\n",
        "print(df)\n"
      ],
      "metadata": {
        "colab": {
          "base_uri": "https://localhost:8080/"
        },
        "id": "WMfUOtpBEtGf",
        "outputId": "7d7e4042-2a3a-4fe8-c4de-9e37e519bb6e"
      },
      "execution_count": 16,
      "outputs": [
        {
          "output_type": "stream",
          "name": "stdout",
          "text": [
            "                                                 title        date\n",
            "0    ECC endorses purchase of $582mn capital shares...  14/02/2025\n",
            "1    Netanyahu’s statement to establish Palestinian...  14/02/2025\n",
            "2    India, US agree to resolve trade and tariff ro...  14/02/2025\n",
            "3    Aurangzeb discusses Pakistan’s structural refo...  14/02/2025\n",
            "4    HBL, S&P Global launch Pakistan’s first manufa...  14/02/2025\n",
            "..                                                 ...         ...\n",
            "448  SBP grants FPT clearance to Zia Ijaz as Askari...  14/02/2025\n",
            "449  India’s Modi brings a tariff ‘gift’ to Trump t...  13/02/2025\n",
            "450  Oil prices decline on optimism over potential ...  13/02/2025\n",
            "451  Google partners with Poland to expand AI adopt...  13/02/2025\n",
            "452  US regulator opens probe into 129,092 Honda ve...  13/02/2025\n",
            "\n",
            "[453 rows x 2 columns]\n"
          ]
        }
      ]
    },
    {
      "cell_type": "code",
      "source": [
        "import pandas as pd\n",
        "import numpy as np\n",
        "\n",
        "import gensim\n",
        "from gensim.models import Word2Vec, Doc2Vec\n",
        "from gensim.models.doc2vec import TaggedDocument\n",
        "from sklearn.cluster import KMeans\n",
        "from sklearn.metrics import silhouette_score\n"
      ],
      "metadata": {
        "id": "2OHscDyCEvLF"
      },
      "execution_count": 24,
      "outputs": []
    },
    {
      "cell_type": "code",
      "source": [
        "import nltk\n",
        "nltk.download('punkt_tab')"
      ],
      "metadata": {
        "colab": {
          "base_uri": "https://localhost:8080/"
        },
        "id": "eEKNsV8pR6sj",
        "outputId": "9616e369-60b7-4982-fd4f-081d9c9f3086"
      },
      "execution_count": 28,
      "outputs": [
        {
          "output_type": "stream",
          "name": "stderr",
          "text": [
            "[nltk_data] Downloading package punkt_tab to /root/nltk_data...\n",
            "[nltk_data]   Unzipping tokenizers/punkt_tab.zip.\n"
          ]
        },
        {
          "output_type": "execute_result",
          "data": {
            "text/plain": [
              "True"
            ]
          },
          "metadata": {},
          "execution_count": 28
        }
      ]
    },
    {
      "cell_type": "code",
      "source": [
        "# Load Dataset\n",
        "df = pd.read_csv(\"news_Feb_14.csv\")\n",
        "df.dropna(inplace=True)"
      ],
      "metadata": {
        "id": "MteFunclE3hZ"
      },
      "execution_count": 32,
      "outputs": []
    },
    {
      "cell_type": "code",
      "source": [
        "# Tokenize text\n",
        "df[\"tokenized\"] = df[\"title\"].apply(nltk.word_tokenize)"
      ],
      "metadata": {
        "id": "e2NbeUQnE-WA"
      },
      "execution_count": 33,
      "outputs": []
    },
    {
      "cell_type": "code",
      "source": [
        "# Word2Vec Parameters\n",
        "vector_size = 1000  # Embedding dimension\n",
        "window = 100  # Context window size\n",
        "epochs = 200  # Training epochs"
      ],
      "metadata": {
        "id": "xEQJ8by2Fmuk"
      },
      "execution_count": 55,
      "outputs": []
    },
    {
      "cell_type": "code",
      "source": [
        "# Train Word2Vec (CBoW and Skip-gram)\n",
        "w2v_cbow = Word2Vec(sentences=df[\"tokenized\"], vector_size=vector_size, window=window, sg=0, epochs=epochs)\n",
        "w2v_skipgram = Word2Vec(sentences=df[\"tokenized\"], vector_size=vector_size, window=window, sg=1, epochs=epochs)\n"
      ],
      "metadata": {
        "id": "OpXJCg3YFq0b"
      },
      "execution_count": 56,
      "outputs": []
    },
    {
      "cell_type": "code",
      "source": [
        "# Compute Word2Vec Averaged Embeddings\n",
        "def average_word2vec(model, tokens, vector_size):\n",
        "    valid_tokens = [token for token in tokens if token in model.wv]\n",
        "    if valid_tokens:\n",
        "        return np.mean(model.wv[valid_tokens], axis=0)\n",
        "    else:\n",
        "        return np.zeros(vector_size)\n",
        "\n",
        "df[\"w2v_cbow\"] = df[\"tokenized\"].apply(lambda x: average_word2vec(w2v_cbow, x, vector_size))\n",
        "df[\"w2v_skipgram\"] = df[\"tokenized\"].apply(lambda x: average_word2vec(w2v_skipgram, x, vector_size))\n"
      ],
      "metadata": {
        "id": "O0MWFkTYFt0r"
      },
      "execution_count": 57,
      "outputs": []
    },
    {
      "cell_type": "code",
      "source": [
        "# Train Doc2Vec (DM and DBOW)\n",
        "documents = [TaggedDocument(words=row, tags=[idx]) for idx, row in enumerate(df[\"tokenized\"])]\n",
        "d2v_dm = Doc2Vec(documents, vector_size=vector_size, window=window, dm=1, epochs=epochs)\n",
        "d2v_dbow = Doc2Vec(documents, vector_size=vector_size, window=window, dm=0, epochs=epochs)\n",
        "\n",
        "df[\"d2v_dm\"] = [d2v_dm.dv[idx] for idx in range(len(df))]\n",
        "df[\"d2v_dbow\"] = [d2v_dbow.dv[idx] for idx in range(len(df))]\n"
      ],
      "metadata": {
        "id": "0iniqET5Fw2g"
      },
      "execution_count": 58,
      "outputs": []
    },
    {
      "cell_type": "code",
      "source": [
        "# Clustering Parameters\n",
        "k_values = [5, 9, 13]\n",
        "random_state = 26409  # Replace with your ERP ID\n",
        "\n",
        "# Function for Clustering and Evaluation\n",
        "def perform_kmeans(X, method):\n",
        "    results = []\n",
        "    for k in k_values:\n",
        "        kmeans = KMeans(n_clusters=k, random_state=random_state, n_init=10)\n",
        "        labels = kmeans.fit_predict(X.tolist())\n",
        "        wss = kmeans.inertia_\n",
        "        silhouette = silhouette_score(X.tolist(), labels)\n",
        "        results.append([method, vector_size, window, epochs, k, wss, silhouette])\n",
        "    return results"
      ],
      "metadata": {
        "id": "RlAqDFO5F3g-"
      },
      "execution_count": 59,
      "outputs": []
    },
    {
      "cell_type": "code",
      "source": [
        "# Run K-Means Clustering and Collect Results\n",
        "results = []\n",
        "results += perform_kmeans(np.vstack(df[\"w2v_cbow\"].values), \"Word2Vec-CBoW\")\n",
        "results += perform_kmeans(np.vstack(df[\"w2v_skipgram\"].values), \"Word2Vec-Skipgram\")\n",
        "results += perform_kmeans(np.vstack(df[\"d2v_dm\"].values), \"Doc2Vec-DM\")\n",
        "results += perform_kmeans(np.vstack(df[\"d2v_dbow\"].values), \"Doc2Vec-DBOW\")\n"
      ],
      "metadata": {
        "id": "VFThIjzZF7c3"
      },
      "execution_count": 60,
      "outputs": []
    },
    {
      "cell_type": "code",
      "source": [
        "# Convert results to DataFrame\n",
        "results_df = pd.DataFrame(results, columns=[\"Method\", \"Vector Size\", \"Window\", \"Epochs\", \"Clusters\", \"WSS\", \"Silhouette\"])\n",
        "print(results_df)"
      ],
      "metadata": {
        "colab": {
          "base_uri": "https://localhost:8080/"
        },
        "id": "N0R19VHkRGNV",
        "outputId": "e966e45b-6a95-46dc-c9e1-cd1a4c6d0914"
      },
      "execution_count": 61,
      "outputs": [
        {
          "output_type": "stream",
          "name": "stdout",
          "text": [
            "               Method  Vector Size  Window  Epochs  Clusters         WSS  \\\n",
            "0       Word2Vec-CBoW         1000     100     200         5  586.990976   \n",
            "1       Word2Vec-CBoW         1000     100     200         9  462.023051   \n",
            "2       Word2Vec-CBoW         1000     100     200        13  383.292558   \n",
            "3   Word2Vec-Skipgram         1000     100     200         5  641.514059   \n",
            "4   Word2Vec-Skipgram         1000     100     200         9  542.495808   \n",
            "5   Word2Vec-Skipgram         1000     100     200        13  472.750942   \n",
            "6          Doc2Vec-DM         1000     100     200         5  186.417377   \n",
            "7          Doc2Vec-DM         1000     100     200         9  144.025177   \n",
            "8          Doc2Vec-DM         1000     100     200        13  119.499450   \n",
            "9        Doc2Vec-DBOW         1000     100     200         5  148.087497   \n",
            "10       Doc2Vec-DBOW         1000     100     200         9  114.769947   \n",
            "11       Doc2Vec-DBOW         1000     100     200        13   93.549924   \n",
            "\n",
            "    Silhouette  \n",
            "0     0.155048  \n",
            "1     0.140613  \n",
            "2     0.149841  \n",
            "3     0.091785  \n",
            "4     0.095438  \n",
            "5     0.113195  \n",
            "6     0.242918  \n",
            "7     0.285751  \n",
            "8     0.219367  \n",
            "9     0.100070  \n",
            "10    0.132532  \n",
            "11    0.149057  \n"
          ]
        }
      ]
    }
  ]
}